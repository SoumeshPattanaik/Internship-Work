{
 "cells": [
  {
   "cell_type": "code",
   "execution_count": 61,
   "id": "d9fca0b2",
   "metadata": {},
   "outputs": [],
   "source": [
    "import pandas as pd\n",
    "import numpy as np\n",
    "import matplotlib.pyplot as plt\n",
    "import warnings\n",
    "import seaborn as sns\n",
    "from datetime import datetime\n",
    "#from pandas_profiling import ProfileReport\n",
    "%matplotlib inline\n",
    "warnings.filterwarnings('ignore')"
   ]
  },
  {
   "cell_type": "code",
   "execution_count": 62,
   "id": "89c5efb8",
   "metadata": {},
   "outputs": [],
   "source": [
    "#!pip install pandas_profiling"
   ]
  },
  {
   "cell_type": "markdown",
   "id": "6b42287a",
   "metadata": {},
   "source": [
    "# Loading the dataset"
   ]
  },
  {
   "cell_type": "code",
   "execution_count": 63,
   "id": "314e266a",
   "metadata": {},
   "outputs": [],
   "source": [
    "df = pd.read_csv('inventory_forecast.csv')"
   ]
  },
  {
   "cell_type": "code",
   "execution_count": 64,
   "id": "6e4725e9",
   "metadata": {},
   "outputs": [
    {
     "data": {
      "text/plain": [
       "Index(['product id', 'product_Name', 'types_of_product', ' product_Brand',\n",
       "       'unit_price', 'quantity', 'price', 'tax', 'total_price', 'order _date',\n",
       "       'delivery_date', 'product_availability', 'product_target_availability'],\n",
       "      dtype='object')"
      ]
     },
     "execution_count": 64,
     "metadata": {},
     "output_type": "execute_result"
    }
   ],
   "source": [
    "df.columns"
   ]
  },
  {
   "cell_type": "code",
   "execution_count": 65,
   "id": "523920a7",
   "metadata": {},
   "outputs": [
    {
     "data": {
      "text/html": [
       "<div>\n",
       "<style scoped>\n",
       "    .dataframe tbody tr th:only-of-type {\n",
       "        vertical-align: middle;\n",
       "    }\n",
       "\n",
       "    .dataframe tbody tr th {\n",
       "        vertical-align: top;\n",
       "    }\n",
       "\n",
       "    .dataframe thead th {\n",
       "        text-align: right;\n",
       "    }\n",
       "</style>\n",
       "<table border=\"1\" class=\"dataframe\">\n",
       "  <thead>\n",
       "    <tr style=\"text-align: right;\">\n",
       "      <th></th>\n",
       "      <th>product id</th>\n",
       "      <th>product_Name</th>\n",
       "      <th>types_of_product</th>\n",
       "      <th>product_Brand</th>\n",
       "      <th>unit_price</th>\n",
       "      <th>quantity</th>\n",
       "      <th>price</th>\n",
       "      <th>tax</th>\n",
       "      <th>total_price</th>\n",
       "      <th>order _date</th>\n",
       "      <th>delivery_date</th>\n",
       "      <th>product_availability</th>\n",
       "      <th>product_target_availability</th>\n",
       "    </tr>\n",
       "  </thead>\n",
       "  <tbody>\n",
       "    <tr>\n",
       "      <th>0</th>\n",
       "      <td>Au001</td>\n",
       "      <td>Fruti</td>\n",
       "      <td>Beverage</td>\n",
       "      <td>Fruti</td>\n",
       "      <td>10</td>\n",
       "      <td>0.45 litres</td>\n",
       "      <td>300</td>\n",
       "      <td>200</td>\n",
       "      <td>500</td>\n",
       "      <td>21-05-2021</td>\n",
       "      <td>22-05-2021</td>\n",
       "      <td>0.55 litres</td>\n",
       "      <td>10 litres</td>\n",
       "    </tr>\n",
       "    <tr>\n",
       "      <th>1</th>\n",
       "      <td>Au002</td>\n",
       "      <td>Thumps Up</td>\n",
       "      <td>Beverage</td>\n",
       "      <td>Coca Cola</td>\n",
       "      <td>74</td>\n",
       "      <td>5 litres</td>\n",
       "      <td>100</td>\n",
       "      <td>80</td>\n",
       "      <td>180</td>\n",
       "      <td>25-04-2021</td>\n",
       "      <td>10-10-2021</td>\n",
       "      <td>21 litres</td>\n",
       "      <td>49 litres</td>\n",
       "    </tr>\n",
       "    <tr>\n",
       "      <th>2</th>\n",
       "      <td>Au003</td>\n",
       "      <td>Coca-Cola</td>\n",
       "      <td>Beverage</td>\n",
       "      <td>Coca Cola</td>\n",
       "      <td>15</td>\n",
       "      <td>10 litres</td>\n",
       "      <td>610</td>\n",
       "      <td>153</td>\n",
       "      <td>763</td>\n",
       "      <td>09-02-2021</td>\n",
       "      <td>22-11-2021</td>\n",
       "      <td>21 litres</td>\n",
       "      <td>41 litres</td>\n",
       "    </tr>\n",
       "    <tr>\n",
       "      <th>3</th>\n",
       "      <td>Au004</td>\n",
       "      <td>Sprite</td>\n",
       "      <td>Beverage</td>\n",
       "      <td>Coca Cola</td>\n",
       "      <td>25</td>\n",
       "      <td>7 litres</td>\n",
       "      <td>694</td>\n",
       "      <td>218</td>\n",
       "      <td>912</td>\n",
       "      <td>01-04-2021</td>\n",
       "      <td>18-09-2021</td>\n",
       "      <td>21 litres</td>\n",
       "      <td>43 litres</td>\n",
       "    </tr>\n",
       "    <tr>\n",
       "      <th>4</th>\n",
       "      <td>Au005</td>\n",
       "      <td>Sprite</td>\n",
       "      <td>Beverage</td>\n",
       "      <td>Coca Cola</td>\n",
       "      <td>49</td>\n",
       "      <td>7 litres</td>\n",
       "      <td>788</td>\n",
       "      <td>158</td>\n",
       "      <td>946</td>\n",
       "      <td>19-04-2021</td>\n",
       "      <td>07-10-2021</td>\n",
       "      <td>10 litres</td>\n",
       "      <td>42 litres</td>\n",
       "    </tr>\n",
       "  </tbody>\n",
       "</table>\n",
       "</div>"
      ],
      "text/plain": [
       "  product id product_Name types_of_product  product_Brand  unit_price  \\\n",
       "0      Au001        Fruti         Beverage          Fruti          10   \n",
       "1      Au002    Thumps Up         Beverage      Coca Cola          74   \n",
       "2      Au003    Coca-Cola         Beverage      Coca Cola          15   \n",
       "3      Au004       Sprite         Beverage      Coca Cola          25   \n",
       "4      Au005       Sprite         Beverage      Coca Cola          49   \n",
       "\n",
       "      quantity  price  tax  total_price order _date delivery_date  \\\n",
       "0  0.45 litres    300  200          500  21-05-2021    22-05-2021   \n",
       "1     5 litres    100   80          180  25-04-2021    10-10-2021   \n",
       "2    10 litres    610  153          763  09-02-2021    22-11-2021   \n",
       "3     7 litres    694  218          912  01-04-2021    18-09-2021   \n",
       "4     7 litres    788  158          946  19-04-2021    07-10-2021   \n",
       "\n",
       "  product_availability product_target_availability  \n",
       "0          0.55 litres                   10 litres  \n",
       "1            21 litres                   49 litres  \n",
       "2            21 litres                   41 litres  \n",
       "3            21 litres                   43 litres  \n",
       "4            10 litres                   42 litres  "
      ]
     },
     "execution_count": 65,
     "metadata": {},
     "output_type": "execute_result"
    }
   ],
   "source": [
    "df.head()"
   ]
  },
  {
   "cell_type": "markdown",
   "id": "9f985a37",
   "metadata": {},
   "source": [
    "# Preprocessing the dataset"
   ]
  },
  {
   "cell_type": "code",
   "execution_count": 66,
   "id": "65962a12",
   "metadata": {},
   "outputs": [],
   "source": [
    "# Dropping 'Unnamed: 13'\n",
    "df.drop(df.columns[df.columns.str.contains('unnamed',case = False)],axis = 1, inplace = True)"
   ]
  },
  {
   "cell_type": "code",
   "execution_count": 67,
   "id": "dbf4c04c",
   "metadata": {},
   "outputs": [
    {
     "data": {
      "text/html": [
       "<div>\n",
       "<style scoped>\n",
       "    .dataframe tbody tr th:only-of-type {\n",
       "        vertical-align: middle;\n",
       "    }\n",
       "\n",
       "    .dataframe tbody tr th {\n",
       "        vertical-align: top;\n",
       "    }\n",
       "\n",
       "    .dataframe thead th {\n",
       "        text-align: right;\n",
       "    }\n",
       "</style>\n",
       "<table border=\"1\" class=\"dataframe\">\n",
       "  <thead>\n",
       "    <tr style=\"text-align: right;\">\n",
       "      <th></th>\n",
       "      <th>product id</th>\n",
       "      <th>product_Name</th>\n",
       "      <th>types_of_product</th>\n",
       "      <th>product_Brand</th>\n",
       "      <th>unit_price</th>\n",
       "      <th>quantity</th>\n",
       "      <th>price</th>\n",
       "      <th>tax</th>\n",
       "      <th>total_price</th>\n",
       "      <th>order _date</th>\n",
       "      <th>delivery_date</th>\n",
       "      <th>product_availability</th>\n",
       "      <th>product_target_availability</th>\n",
       "    </tr>\n",
       "  </thead>\n",
       "  <tbody>\n",
       "    <tr>\n",
       "      <th>0</th>\n",
       "      <td>Au001</td>\n",
       "      <td>Fruti</td>\n",
       "      <td>Beverage</td>\n",
       "      <td>Fruti</td>\n",
       "      <td>10</td>\n",
       "      <td>0.45 litres</td>\n",
       "      <td>300</td>\n",
       "      <td>200</td>\n",
       "      <td>500</td>\n",
       "      <td>21-05-2021</td>\n",
       "      <td>22-05-2021</td>\n",
       "      <td>0.55 litres</td>\n",
       "      <td>10 litres</td>\n",
       "    </tr>\n",
       "    <tr>\n",
       "      <th>1</th>\n",
       "      <td>Au002</td>\n",
       "      <td>Thumps Up</td>\n",
       "      <td>Beverage</td>\n",
       "      <td>Coca Cola</td>\n",
       "      <td>74</td>\n",
       "      <td>5 litres</td>\n",
       "      <td>100</td>\n",
       "      <td>80</td>\n",
       "      <td>180</td>\n",
       "      <td>25-04-2021</td>\n",
       "      <td>10-10-2021</td>\n",
       "      <td>21 litres</td>\n",
       "      <td>49 litres</td>\n",
       "    </tr>\n",
       "    <tr>\n",
       "      <th>2</th>\n",
       "      <td>Au003</td>\n",
       "      <td>Coca-Cola</td>\n",
       "      <td>Beverage</td>\n",
       "      <td>Coca Cola</td>\n",
       "      <td>15</td>\n",
       "      <td>10 litres</td>\n",
       "      <td>610</td>\n",
       "      <td>153</td>\n",
       "      <td>763</td>\n",
       "      <td>09-02-2021</td>\n",
       "      <td>22-11-2021</td>\n",
       "      <td>21 litres</td>\n",
       "      <td>41 litres</td>\n",
       "    </tr>\n",
       "    <tr>\n",
       "      <th>3</th>\n",
       "      <td>Au004</td>\n",
       "      <td>Sprite</td>\n",
       "      <td>Beverage</td>\n",
       "      <td>Coca Cola</td>\n",
       "      <td>25</td>\n",
       "      <td>7 litres</td>\n",
       "      <td>694</td>\n",
       "      <td>218</td>\n",
       "      <td>912</td>\n",
       "      <td>01-04-2021</td>\n",
       "      <td>18-09-2021</td>\n",
       "      <td>21 litres</td>\n",
       "      <td>43 litres</td>\n",
       "    </tr>\n",
       "    <tr>\n",
       "      <th>4</th>\n",
       "      <td>Au005</td>\n",
       "      <td>Sprite</td>\n",
       "      <td>Beverage</td>\n",
       "      <td>Coca Cola</td>\n",
       "      <td>49</td>\n",
       "      <td>7 litres</td>\n",
       "      <td>788</td>\n",
       "      <td>158</td>\n",
       "      <td>946</td>\n",
       "      <td>19-04-2021</td>\n",
       "      <td>07-10-2021</td>\n",
       "      <td>10 litres</td>\n",
       "      <td>42 litres</td>\n",
       "    </tr>\n",
       "  </tbody>\n",
       "</table>\n",
       "</div>"
      ],
      "text/plain": [
       "  product id product_Name types_of_product  product_Brand  unit_price  \\\n",
       "0      Au001        Fruti         Beverage          Fruti          10   \n",
       "1      Au002    Thumps Up         Beverage      Coca Cola          74   \n",
       "2      Au003    Coca-Cola         Beverage      Coca Cola          15   \n",
       "3      Au004       Sprite         Beverage      Coca Cola          25   \n",
       "4      Au005       Sprite         Beverage      Coca Cola          49   \n",
       "\n",
       "      quantity  price  tax  total_price order _date delivery_date  \\\n",
       "0  0.45 litres    300  200          500  21-05-2021    22-05-2021   \n",
       "1     5 litres    100   80          180  25-04-2021    10-10-2021   \n",
       "2    10 litres    610  153          763  09-02-2021    22-11-2021   \n",
       "3     7 litres    694  218          912  01-04-2021    18-09-2021   \n",
       "4     7 litres    788  158          946  19-04-2021    07-10-2021   \n",
       "\n",
       "  product_availability product_target_availability  \n",
       "0          0.55 litres                   10 litres  \n",
       "1            21 litres                   49 litres  \n",
       "2            21 litres                   41 litres  \n",
       "3            21 litres                   43 litres  \n",
       "4            10 litres                   42 litres  "
      ]
     },
     "execution_count": 67,
     "metadata": {},
     "output_type": "execute_result"
    }
   ],
   "source": [
    "df.head()"
   ]
  },
  {
   "cell_type": "code",
   "execution_count": 68,
   "id": "9bdfae6d",
   "metadata": {},
   "outputs": [],
   "source": [
    "# Generate a report\n",
    "#profile  = ProfileReport(df,minimal=True)\n",
    "#profile.to_file(output_file=\"Report.html\")\n",
    "#profile.to_notebook_iframe()"
   ]
  },
  {
   "cell_type": "code",
   "execution_count": 69,
   "id": "d4200801",
   "metadata": {},
   "outputs": [
    {
     "data": {
      "text/plain": [
       "(1100, 13)"
      ]
     },
     "execution_count": 69,
     "metadata": {},
     "output_type": "execute_result"
    }
   ],
   "source": [
    "df.shape"
   ]
  },
  {
   "cell_type": "code",
   "execution_count": 70,
   "id": "b20cb58a",
   "metadata": {},
   "outputs": [
    {
     "data": {
      "text/plain": [
       "Index(['product id', 'product_Name', 'types_of_product', ' product_Brand',\n",
       "       'unit_price', 'quantity', 'price', 'tax', 'total_price', 'order _date',\n",
       "       'delivery_date', 'product_availability', 'product_target_availability'],\n",
       "      dtype='object')"
      ]
     },
     "execution_count": 70,
     "metadata": {},
     "output_type": "execute_result"
    }
   ],
   "source": [
    "df.columns"
   ]
  },
  {
   "cell_type": "code",
   "execution_count": 71,
   "id": "7fba7c47",
   "metadata": {},
   "outputs": [
    {
     "data": {
      "text/html": [
       "<div>\n",
       "<style scoped>\n",
       "    .dataframe tbody tr th:only-of-type {\n",
       "        vertical-align: middle;\n",
       "    }\n",
       "\n",
       "    .dataframe tbody tr th {\n",
       "        vertical-align: top;\n",
       "    }\n",
       "\n",
       "    .dataframe thead th {\n",
       "        text-align: right;\n",
       "    }\n",
       "</style>\n",
       "<table border=\"1\" class=\"dataframe\">\n",
       "  <thead>\n",
       "    <tr style=\"text-align: right;\">\n",
       "      <th></th>\n",
       "      <th>unit_price</th>\n",
       "      <th>price</th>\n",
       "      <th>tax</th>\n",
       "      <th>total_price</th>\n",
       "    </tr>\n",
       "  </thead>\n",
       "  <tbody>\n",
       "    <tr>\n",
       "      <th>count</th>\n",
       "      <td>1100.000000</td>\n",
       "      <td>1100.000000</td>\n",
       "      <td>1100.000000</td>\n",
       "      <td>1100.000000</td>\n",
       "    </tr>\n",
       "    <tr>\n",
       "      <th>mean</th>\n",
       "      <td>29.963636</td>\n",
       "      <td>750.507273</td>\n",
       "      <td>245.729091</td>\n",
       "      <td>996.236364</td>\n",
       "    </tr>\n",
       "    <tr>\n",
       "      <th>std</th>\n",
       "      <td>11.766864</td>\n",
       "      <td>146.833081</td>\n",
       "      <td>86.122663</td>\n",
       "      <td>174.106915</td>\n",
       "    </tr>\n",
       "    <tr>\n",
       "      <th>min</th>\n",
       "      <td>10.000000</td>\n",
       "      <td>100.000000</td>\n",
       "      <td>80.000000</td>\n",
       "      <td>180.000000</td>\n",
       "    </tr>\n",
       "    <tr>\n",
       "      <th>25%</th>\n",
       "      <td>21.000000</td>\n",
       "      <td>631.000000</td>\n",
       "      <td>172.750000</td>\n",
       "      <td>867.750000</td>\n",
       "    </tr>\n",
       "    <tr>\n",
       "      <th>50%</th>\n",
       "      <td>30.000000</td>\n",
       "      <td>752.000000</td>\n",
       "      <td>243.500000</td>\n",
       "      <td>992.000000</td>\n",
       "    </tr>\n",
       "    <tr>\n",
       "      <th>75%</th>\n",
       "      <td>40.000000</td>\n",
       "      <td>878.250000</td>\n",
       "      <td>318.000000</td>\n",
       "      <td>1129.000000</td>\n",
       "    </tr>\n",
       "    <tr>\n",
       "      <th>max</th>\n",
       "      <td>74.000000</td>\n",
       "      <td>1000.000000</td>\n",
       "      <td>400.000000</td>\n",
       "      <td>1395.000000</td>\n",
       "    </tr>\n",
       "  </tbody>\n",
       "</table>\n",
       "</div>"
      ],
      "text/plain": [
       "        unit_price        price          tax  total_price\n",
       "count  1100.000000  1100.000000  1100.000000  1100.000000\n",
       "mean     29.963636   750.507273   245.729091   996.236364\n",
       "std      11.766864   146.833081    86.122663   174.106915\n",
       "min      10.000000   100.000000    80.000000   180.000000\n",
       "25%      21.000000   631.000000   172.750000   867.750000\n",
       "50%      30.000000   752.000000   243.500000   992.000000\n",
       "75%      40.000000   878.250000   318.000000  1129.000000\n",
       "max      74.000000  1000.000000   400.000000  1395.000000"
      ]
     },
     "execution_count": 71,
     "metadata": {},
     "output_type": "execute_result"
    }
   ],
   "source": [
    "# stastical info\n",
    "df.describe()"
   ]
  },
  {
   "cell_type": "code",
   "execution_count": 72,
   "id": "fad2c9ce",
   "metadata": {},
   "outputs": [
    {
     "name": "stdout",
     "output_type": "stream",
     "text": [
      "<class 'pandas.core.frame.DataFrame'>\n",
      "RangeIndex: 1100 entries, 0 to 1099\n",
      "Data columns (total 13 columns):\n",
      " #   Column                       Non-Null Count  Dtype \n",
      "---  ------                       --------------  ----- \n",
      " 0   product id                   1100 non-null   object\n",
      " 1   product_Name                 1100 non-null   object\n",
      " 2   types_of_product             1100 non-null   object\n",
      " 3    product_Brand               1100 non-null   object\n",
      " 4   unit_price                   1100 non-null   int64 \n",
      " 5   quantity                     1100 non-null   object\n",
      " 6   price                        1100 non-null   int64 \n",
      " 7   tax                          1100 non-null   int64 \n",
      " 8   total_price                  1100 non-null   int64 \n",
      " 9   order _date                  1100 non-null   object\n",
      " 10  delivery_date                1100 non-null   object\n",
      " 11  product_availability         1100 non-null   object\n",
      " 12  product_target_availability  1100 non-null   object\n",
      "dtypes: int64(4), object(9)\n",
      "memory usage: 111.8+ KB\n"
     ]
    }
   ],
   "source": [
    "df.info()"
   ]
  },
  {
   "cell_type": "code",
   "execution_count": 73,
   "id": "2599ce26",
   "metadata": {},
   "outputs": [],
   "source": [
    "# converting order_date and delivery_date into datetime\n",
    "df['order _date'] = pd.to_datetime(df['order _date'])\n",
    "df['delivery_date'] = pd.to_datetime(df['delivery_date'])"
   ]
  },
  {
   "cell_type": "code",
   "execution_count": 74,
   "id": "3ac5f73a",
   "metadata": {},
   "outputs": [
    {
     "name": "stdout",
     "output_type": "stream",
     "text": [
      "<class 'pandas.core.frame.DataFrame'>\n",
      "RangeIndex: 1100 entries, 0 to 1099\n",
      "Data columns (total 13 columns):\n",
      " #   Column                       Non-Null Count  Dtype         \n",
      "---  ------                       --------------  -----         \n",
      " 0   product id                   1100 non-null   object        \n",
      " 1   product_Name                 1100 non-null   object        \n",
      " 2   types_of_product             1100 non-null   object        \n",
      " 3    product_Brand               1100 non-null   object        \n",
      " 4   unit_price                   1100 non-null   int64         \n",
      " 5   quantity                     1100 non-null   object        \n",
      " 6   price                        1100 non-null   int64         \n",
      " 7   tax                          1100 non-null   int64         \n",
      " 8   total_price                  1100 non-null   int64         \n",
      " 9   order _date                  1100 non-null   datetime64[ns]\n",
      " 10  delivery_date                1100 non-null   datetime64[ns]\n",
      " 11  product_availability         1100 non-null   object        \n",
      " 12  product_target_availability  1100 non-null   object        \n",
      "dtypes: datetime64[ns](2), int64(4), object(7)\n",
      "memory usage: 111.8+ KB\n"
     ]
    }
   ],
   "source": [
    "# datatype attributes\n",
    "df.info()"
   ]
  },
  {
   "cell_type": "code",
   "execution_count": 75,
   "id": "3153027b",
   "metadata": {},
   "outputs": [
    {
     "data": {
      "text/plain": [
       "product id                     1100\n",
       "product_Name                     44\n",
       "types_of_product                  5\n",
       " product_Brand                   10\n",
       "unit_price                       42\n",
       "quantity                         34\n",
       "price                           449\n",
       "tax                             298\n",
       "total_price                     521\n",
       "order _date                     152\n",
       "delivery_date                   184\n",
       "product_availability             94\n",
       "product_target_availability     123\n",
       "dtype: int64"
      ]
     },
     "execution_count": 75,
     "metadata": {},
     "output_type": "execute_result"
    }
   ],
   "source": [
    "# checking for unique valuesin the dataset\n",
    "df.apply(lambda x: len(x.unique()))"
   ]
  },
  {
   "cell_type": "code",
   "execution_count": 76,
   "id": "6bf35e61",
   "metadata": {},
   "outputs": [
    {
     "data": {
      "text/plain": [
       "product id                     0\n",
       "product_Name                   0\n",
       "types_of_product               0\n",
       " product_Brand                 0\n",
       "unit_price                     0\n",
       "quantity                       0\n",
       "price                          0\n",
       "tax                            0\n",
       "total_price                    0\n",
       "order _date                    0\n",
       "delivery_date                  0\n",
       "product_availability           0\n",
       "product_target_availability    0\n",
       "dtype: int64"
      ]
     },
     "execution_count": 76,
     "metadata": {},
     "output_type": "execute_result"
    }
   ],
   "source": [
    "# check for null values\n",
    "df.isnull().sum()"
   ]
  },
  {
   "cell_type": "code",
   "execution_count": 77,
   "id": "75aa62ca",
   "metadata": {},
   "outputs": [
    {
     "data": {
      "text/plain": [
       "['product id',\n",
       " 'product_Name',\n",
       " 'types_of_product',\n",
       " ' product_Brand',\n",
       " 'quantity',\n",
       " 'product_availability',\n",
       " 'product_target_availability']"
      ]
     },
     "execution_count": 77,
     "metadata": {},
     "output_type": "execute_result"
    }
   ],
   "source": [
    "# check for categorical attributes\n",
    "cat_col = []\n",
    "for x in df.dtypes.index:\n",
    "    if df.dtypes[x] == 'object':\n",
    "        cat_col.append(x)\n",
    "cat_col"
   ]
  },
  {
   "cell_type": "markdown",
   "id": "2bac4bbe",
   "metadata": {},
   "source": [
    "# Exploratory Data Analysis"
   ]
  },
  {
   "cell_type": "code",
   "execution_count": 78,
   "id": "33e2cce0",
   "metadata": {},
   "outputs": [
    {
     "data": {
      "text/plain": [
       "Index(['product id', 'product_Name', 'types_of_product', ' product_Brand',\n",
       "       'unit_price', 'quantity', 'price', 'tax', 'total_price', 'order _date',\n",
       "       'delivery_date', 'product_availability', 'product_target_availability'],\n",
       "      dtype='object')"
      ]
     },
     "execution_count": 78,
     "metadata": {},
     "output_type": "execute_result"
    }
   ],
   "source": [
    "df.columns"
   ]
  },
  {
   "cell_type": "code",
   "execution_count": 79,
   "id": "576e25a1",
   "metadata": {},
   "outputs": [
    {
     "data": {
      "text/plain": [
       "[Text(0, 0, 'Fruti'),\n",
       " Text(1, 0, 'Thumps Up'),\n",
       " Text(2, 0, 'Coca-Cola'),\n",
       " Text(3, 0, 'Sprite'),\n",
       " Text(4, 0, 'Honest Tea'),\n",
       " Text(5, 0, 'Lays'),\n",
       " Text(6, 0, 'Bhel Puri'),\n",
       " Text(7, 0, 'Tasty Nuts'),\n",
       " Text(8, 0, 'Bhujia Sev'),\n",
       " Text(9, 0, 'Aloo Bhujia'),\n",
       " Text(10, 0, 'Uncle Chips'),\n",
       " Text(11, 0, 'Uncle Chips(spicy)'),\n",
       " Text(12, 0, 'Soda Stream'),\n",
       " Text(13, 0, 'Tropicana'),\n",
       " Text(14, 0, 'Pepsi'),\n",
       " Text(15, 0, 'Gatorade'),\n",
       " Text(16, 0, 'Quaker Oats'),\n",
       " Text(17, 0, 'Walker'),\n",
       " Text(18, 0, 'Gamesa'),\n",
       " Text(19, 0, 'Lite Horlicks'),\n",
       " Text(20, 0, \"Mother's Horlicks\"),\n",
       " Text(21, 0, 'Horlicks'),\n",
       " Text(22, 0, \"Women's Horlicks\"),\n",
       " Text(23, 0, 'Aloe Vera Juice'),\n",
       " Text(24, 0, 'Amla Juice'),\n",
       " Text(25, 0, 'Gilloy Juice'),\n",
       " Text(26, 0, 'Tulsi Juice'),\n",
       " Text(27, 0, 'Mango Panna'),\n",
       " Text(28, 0, 'Lays-IMM'),\n",
       " Text(29, 0, 'Lays-ASCO'),\n",
       " Text(30, 0, 'Kinley'),\n",
       " Text(31, 0, 'Kurkure'),\n",
       " Text(32, 0, 'Kurkure-TA'),\n",
       " Text(33, 0, 'Kurkure-Puff'),\n",
       " Text(34, 0, 'Groundnut Oil'),\n",
       " Text(35, 0, 'Sunflower Oil'),\n",
       " Text(36, 0, 'Mustard Oil'),\n",
       " Text(37, 0, 'Amul Spray'),\n",
       " Text(38, 0, 'Butter'),\n",
       " Text(39, 0, 'Cheese'),\n",
       " Text(40, 0, 'Honey'),\n",
       " Text(41, 0, 'Chawanprash'),\n",
       " Text(42, 0, 'Patanjali Dant Kanti'),\n",
       " Text(43, 0, 'Minute Maid')]"
      ]
     },
     "execution_count": 79,
     "metadata": {},
     "output_type": "execute_result"
    },
    {
     "data": {
      "image/png": "[encoded data removed]",
      "text/plain": [
       "<Figure size 2160x1080 with 1 Axes>"
      ]
     },
     "metadata": {
      "needs_background": "light"
     },
     "output_type": "display_data"
    }
   ],
   "source": [
    "plt.figure(figsize=(30,15))\n",
    "l = list(df['product_Name'].unique())\n",
    "chart = sns.countplot(df[\"product_Name\"])\n",
    "chart.set_xticklabels(chart.get_xticklabels(),rotation=90)"
   ]
  },
  {
   "cell_type": "code",
   "execution_count": 80,
   "id": "8cd2d46a",
   "metadata": {},
   "outputs": [
    {
     "data": {
      "text/plain": [
       "[Text(0, 0, 'Beverage'),\n",
       " Text(1, 0, 'Snacks'),\n",
       " Text(2, 0, 'Health Supplement'),\n",
       " Text(3, 0, 'Grocery'),\n",
       " Text(4, 0, 'Dairy')]"
      ]
     },
     "execution_count": 80,
     "metadata": {},
     "output_type": "execute_result"
    },
    {
     "data": {
      "image/png": "[encoded data removed]",
      "text/plain": [
       "<Figure size 2160x1080 with 1 Axes>"
      ]
     },
     "metadata": {
      "needs_background": "light"
     },
     "output_type": "display_data"
    }
   ],
   "source": [
    "plt.figure(figsize=(30,15))\n",
    "l = list(df['types_of_product'].unique())\n",
    "chart = sns.countplot(df[\"types_of_product\"])\n",
    "chart.set_xticklabels(chart.get_xticklabels(),rotation=90)"
   ]
  },
  {
   "cell_type": "code",
   "execution_count": 81,
   "id": "a3667105",
   "metadata": {},
   "outputs": [
    {
     "data": {
      "text/plain": [
       "types_of_product\n",
       "Beverage             121\n",
       "Dairy                 80\n",
       "Grocery               56\n",
       "Health Supplement    328\n",
       "Snacks               515\n",
       "dtype: int64"
      ]
     },
     "execution_count": 81,
     "metadata": {},
     "output_type": "execute_result"
    }
   ],
   "source": [
    "df.groupby('types_of_product').size()"
   ]
  },
  {
   "cell_type": "code",
   "execution_count": 82,
   "id": "e4711f7f",
   "metadata": {},
   "outputs": [
    {
     "data": {
      "text/plain": [
       "[Text(0, 0, 'Fruti'),\n",
       " Text(1, 0, 'Coca Cola'),\n",
       " Text(2, 0, 'Pepsi'),\n",
       " Text(3, 0, 'Haldiram'),\n",
       " Text(4, 0, 'Uncle Chips'),\n",
       " Text(5, 0, 'HUL'),\n",
       " Text(6, 0, 'Patanjali'),\n",
       " Text(7, 0, 'Freedom'),\n",
       " Text(8, 0, 'Engine'),\n",
       " Text(9, 0, 'Amul')]"
      ]
     },
     "execution_count": 82,
     "metadata": {},
     "output_type": "execute_result"
    },
    {
     "data": {
      "image/png": "[encoded data removed]",
      "text/plain": [
       "<Figure size 2160x1080 with 1 Axes>"
      ]
     },
     "metadata": {
      "needs_background": "light"
     },
     "output_type": "display_data"
    }
   ],
   "source": [
    "plt.figure(figsize=(30,15))\n",
    "l = list(df[' product_Brand'].unique())\n",
    "chart = sns.countplot(df[\" product_Brand\"])\n",
    "chart.set_xticklabels(chart.get_xticklabels(),rotation=90)"
   ]
  },
  {
   "cell_type": "code",
   "execution_count": 83,
   "id": "9de1e3e9",
   "metadata": {},
   "outputs": [
    {
     "data": {
      "text/plain": [
       " product_Brand\n",
       "Amul            80\n",
       "Coca Cola       70\n",
       "Engine          36\n",
       "Freedom         20\n",
       "Fruti            1\n",
       "HUL            127\n",
       "Haldiram       176\n",
       "Patanjali      201\n",
       "Pepsi          248\n",
       "Uncle Chips    141\n",
       "dtype: int64"
      ]
     },
     "execution_count": 83,
     "metadata": {},
     "output_type": "execute_result"
    }
   ],
   "source": [
    "df.groupby(' product_Brand').size()"
   ]
  },
  {
   "cell_type": "code",
   "execution_count": 84,
   "id": "d70afca7",
   "metadata": {},
   "outputs": [],
   "source": [
    "# Total days from date of order  to receiving the order\n",
    "df['D_O'] = (df['delivery_date'] - df['order _date']).dt.days.astype(float)"
   ]
  },
  {
   "cell_type": "code",
   "execution_count": 85,
   "id": "46400086",
   "metadata": {},
   "outputs": [
    {
     "data": {
      "text/plain": [
       "<seaborn.axisgrid.FacetGrid at 0x1aa9112c790>"
      ]
     },
     "execution_count": 85,
     "metadata": {},
     "output_type": "execute_result"
    },
    {
     "data": {
      "image/png": "[encoded data removed]",
      "text/plain": [
       "<Figure size 360x360 with 1 Axes>"
      ]
     },
     "metadata": {
      "needs_background": "light"
     },
     "output_type": "display_data"
    }
   ],
   "source": [
    "sns.displot(df['D_O'])"
   ]
  },
  {
   "cell_type": "code",
   "execution_count": 86,
   "id": "b2540bcf",
   "metadata": {},
   "outputs": [],
   "source": [
    "# Dropping order _date and delivery_date\n",
    "df = df.drop(columns=['product id','order _date','delivery_date'], axis=1)"
   ]
  },
  {
   "cell_type": "code",
   "execution_count": 87,
   "id": "31b9f17e",
   "metadata": {},
   "outputs": [
    {
     "data": {
      "text/html": [
       "<div>\n",
       "<style scoped>\n",
       "    .dataframe tbody tr th:only-of-type {\n",
       "        vertical-align: middle;\n",
       "    }\n",
       "\n",
       "    .dataframe tbody tr th {\n",
       "        vertical-align: top;\n",
       "    }\n",
       "\n",
       "    .dataframe thead th {\n",
       "        text-align: right;\n",
       "    }\n",
       "</style>\n",
       "<table border=\"1\" class=\"dataframe\">\n",
       "  <thead>\n",
       "    <tr style=\"text-align: right;\">\n",
       "      <th></th>\n",
       "      <th>product_Name</th>\n",
       "      <th>types_of_product</th>\n",
       "      <th>product_Brand</th>\n",
       "      <th>unit_price</th>\n",
       "      <th>quantity</th>\n",
       "      <th>price</th>\n",
       "      <th>tax</th>\n",
       "      <th>total_price</th>\n",
       "      <th>product_availability</th>\n",
       "      <th>product_target_availability</th>\n",
       "      <th>D_O</th>\n",
       "    </tr>\n",
       "  </thead>\n",
       "  <tbody>\n",
       "    <tr>\n",
       "      <th>0</th>\n",
       "      <td>Fruti</td>\n",
       "      <td>Beverage</td>\n",
       "      <td>Fruti</td>\n",
       "      <td>10</td>\n",
       "      <td>0.45 litres</td>\n",
       "      <td>300</td>\n",
       "      <td>200</td>\n",
       "      <td>500</td>\n",
       "      <td>0.55 litres</td>\n",
       "      <td>10 litres</td>\n",
       "      <td>1.0</td>\n",
       "    </tr>\n",
       "    <tr>\n",
       "      <th>1</th>\n",
       "      <td>Thumps Up</td>\n",
       "      <td>Beverage</td>\n",
       "      <td>Coca Cola</td>\n",
       "      <td>74</td>\n",
       "      <td>5 litres</td>\n",
       "      <td>100</td>\n",
       "      <td>80</td>\n",
       "      <td>180</td>\n",
       "      <td>21 litres</td>\n",
       "      <td>49 litres</td>\n",
       "      <td>168.0</td>\n",
       "    </tr>\n",
       "    <tr>\n",
       "      <th>2</th>\n",
       "      <td>Coca-Cola</td>\n",
       "      <td>Beverage</td>\n",
       "      <td>Coca Cola</td>\n",
       "      <td>15</td>\n",
       "      <td>10 litres</td>\n",
       "      <td>610</td>\n",
       "      <td>153</td>\n",
       "      <td>763</td>\n",
       "      <td>21 litres</td>\n",
       "      <td>41 litres</td>\n",
       "      <td>81.0</td>\n",
       "    </tr>\n",
       "    <tr>\n",
       "      <th>3</th>\n",
       "      <td>Sprite</td>\n",
       "      <td>Beverage</td>\n",
       "      <td>Coca Cola</td>\n",
       "      <td>25</td>\n",
       "      <td>7 litres</td>\n",
       "      <td>694</td>\n",
       "      <td>218</td>\n",
       "      <td>912</td>\n",
       "      <td>21 litres</td>\n",
       "      <td>43 litres</td>\n",
       "      <td>257.0</td>\n",
       "    </tr>\n",
       "    <tr>\n",
       "      <th>4</th>\n",
       "      <td>Sprite</td>\n",
       "      <td>Beverage</td>\n",
       "      <td>Coca Cola</td>\n",
       "      <td>49</td>\n",
       "      <td>7 litres</td>\n",
       "      <td>788</td>\n",
       "      <td>158</td>\n",
       "      <td>946</td>\n",
       "      <td>10 litres</td>\n",
       "      <td>42 litres</td>\n",
       "      <td>82.0</td>\n",
       "    </tr>\n",
       "  </tbody>\n",
       "</table>\n",
       "</div>"
      ],
      "text/plain": [
       "  product_Name types_of_product  product_Brand  unit_price     quantity  \\\n",
       "0        Fruti         Beverage          Fruti          10  0.45 litres   \n",
       "1    Thumps Up         Beverage      Coca Cola          74     5 litres   \n",
       "2    Coca-Cola         Beverage      Coca Cola          15    10 litres   \n",
       "3       Sprite         Beverage      Coca Cola          25     7 litres   \n",
       "4       Sprite         Beverage      Coca Cola          49     7 litres   \n",
       "\n",
       "   price  tax  total_price product_availability product_target_availability  \\\n",
       "0    300  200          500          0.55 litres                   10 litres   \n",
       "1    100   80          180            21 litres                   49 litres   \n",
       "2    610  153          763            21 litres                   41 litres   \n",
       "3    694  218          912            21 litres                   43 litres   \n",
       "4    788  158          946            10 litres                   42 litres   \n",
       "\n",
       "     D_O  \n",
       "0    1.0  \n",
       "1  168.0  \n",
       "2   81.0  \n",
       "3  257.0  \n",
       "4   82.0  "
      ]
     },
     "execution_count": 87,
     "metadata": {},
     "output_type": "execute_result"
    }
   ],
   "source": [
    "df.head()"
   ]
  },
  {
   "cell_type": "code",
   "execution_count": 88,
   "id": "a5c3ade2",
   "metadata": {},
   "outputs": [],
   "source": [
    "# Replacing litres and kg in quantity\n",
    "df['quantity']=df['quantity'].apply(lambda x: str(x).replace(' litres','') if ' litres' in str(x) else str(x))\n",
    "df['quantity']=df['quantity'].apply(lambda x: str(x).replace(' Kg','') if ' Kg' in str(x) else str(x))\n",
    "df['quantity']=df['quantity'].apply(lambda x: str(x).replace(' kg','') if ' kg' in str(x) else str(x))"
   ]
  },
  {
   "cell_type": "code",
   "execution_count": 89,
   "id": "5fbc43a9",
   "metadata": {},
   "outputs": [],
   "source": [
    "# Replacing litres and kg in product_availability\n",
    "df['product_availability']=df['product_availability'].apply(lambda x: str(x).replace(' litres','') if ' litres' in str(x) else str(x))\n",
    "df['product_availability']=df['product_availability'].apply(lambda x: str(x).replace(' Kg','') if ' Kg' in str(x) else str(x))\n",
    "df['product_availability']=df['product_availability'].apply(lambda x: str(x).replace(' kg','') if ' kg' in str(x) else str(x))"
   ]
  },
  {
   "cell_type": "code",
   "execution_count": 90,
   "id": "a4b9b25a",
   "metadata": {},
   "outputs": [],
   "source": [
    "# Replacing litres and kg in product_target_availability\n",
    "df['product_target_availability']=df['product_target_availability'].apply(lambda x: str(x).replace(' litres','') if ' litres' in str(x) else str(x))\n",
    "df['product_target_availability']=df['product_target_availability'].apply(lambda x: str(x).replace(' Kg','') if ' Kg' in str(x) else str(x))\n",
    "df['product_target_availability']=df['product_target_availability'].apply(lambda x: str(x).replace(' kg','') if ' kg' in str(x) else str(x))"
   ]
  },
  {
   "cell_type": "code",
   "execution_count": 91,
   "id": "c0cf1599",
   "metadata": {},
   "outputs": [
    {
     "data": {
      "text/html": [
       "<div>\n",
       "<style scoped>\n",
       "    .dataframe tbody tr th:only-of-type {\n",
       "        vertical-align: middle;\n",
       "    }\n",
       "\n",
       "    .dataframe tbody tr th {\n",
       "        vertical-align: top;\n",
       "    }\n",
       "\n",
       "    .dataframe thead th {\n",
       "        text-align: right;\n",
       "    }\n",
       "</style>\n",
       "<table border=\"1\" class=\"dataframe\">\n",
       "  <thead>\n",
       "    <tr style=\"text-align: right;\">\n",
       "      <th></th>\n",
       "      <th>product_Name</th>\n",
       "      <th>types_of_product</th>\n",
       "      <th>product_Brand</th>\n",
       "      <th>unit_price</th>\n",
       "      <th>quantity</th>\n",
       "      <th>price</th>\n",
       "      <th>tax</th>\n",
       "      <th>total_price</th>\n",
       "      <th>product_availability</th>\n",
       "      <th>product_target_availability</th>\n",
       "      <th>D_O</th>\n",
       "    </tr>\n",
       "  </thead>\n",
       "  <tbody>\n",
       "    <tr>\n",
       "      <th>0</th>\n",
       "      <td>Fruti</td>\n",
       "      <td>Beverage</td>\n",
       "      <td>Fruti</td>\n",
       "      <td>10</td>\n",
       "      <td>0.45</td>\n",
       "      <td>300</td>\n",
       "      <td>200</td>\n",
       "      <td>500</td>\n",
       "      <td>0.55</td>\n",
       "      <td>10</td>\n",
       "      <td>1.0</td>\n",
       "    </tr>\n",
       "    <tr>\n",
       "      <th>1</th>\n",
       "      <td>Thumps Up</td>\n",
       "      <td>Beverage</td>\n",
       "      <td>Coca Cola</td>\n",
       "      <td>74</td>\n",
       "      <td>5</td>\n",
       "      <td>100</td>\n",
       "      <td>80</td>\n",
       "      <td>180</td>\n",
       "      <td>21</td>\n",
       "      <td>49</td>\n",
       "      <td>168.0</td>\n",
       "    </tr>\n",
       "    <tr>\n",
       "      <th>2</th>\n",
       "      <td>Coca-Cola</td>\n",
       "      <td>Beverage</td>\n",
       "      <td>Coca Cola</td>\n",
       "      <td>15</td>\n",
       "      <td>10</td>\n",
       "      <td>610</td>\n",
       "      <td>153</td>\n",
       "      <td>763</td>\n",
       "      <td>21</td>\n",
       "      <td>41</td>\n",
       "      <td>81.0</td>\n",
       "    </tr>\n",
       "    <tr>\n",
       "      <th>3</th>\n",
       "      <td>Sprite</td>\n",
       "      <td>Beverage</td>\n",
       "      <td>Coca Cola</td>\n",
       "      <td>25</td>\n",
       "      <td>7</td>\n",
       "      <td>694</td>\n",
       "      <td>218</td>\n",
       "      <td>912</td>\n",
       "      <td>21</td>\n",
       "      <td>43</td>\n",
       "      <td>257.0</td>\n",
       "    </tr>\n",
       "    <tr>\n",
       "      <th>4</th>\n",
       "      <td>Sprite</td>\n",
       "      <td>Beverage</td>\n",
       "      <td>Coca Cola</td>\n",
       "      <td>49</td>\n",
       "      <td>7</td>\n",
       "      <td>788</td>\n",
       "      <td>158</td>\n",
       "      <td>946</td>\n",
       "      <td>10</td>\n",
       "      <td>42</td>\n",
       "      <td>82.0</td>\n",
       "    </tr>\n",
       "  </tbody>\n",
       "</table>\n",
       "</div>"
      ],
      "text/plain": [
       "  product_Name types_of_product  product_Brand  unit_price quantity  price  \\\n",
       "0        Fruti         Beverage          Fruti          10     0.45    300   \n",
       "1    Thumps Up         Beverage      Coca Cola          74        5    100   \n",
       "2    Coca-Cola         Beverage      Coca Cola          15       10    610   \n",
       "3       Sprite         Beverage      Coca Cola          25        7    694   \n",
       "4       Sprite         Beverage      Coca Cola          49        7    788   \n",
       "\n",
       "   tax  total_price product_availability product_target_availability    D_O  \n",
       "0  200          500                 0.55                          10    1.0  \n",
       "1   80          180                   21                          49  168.0  \n",
       "2  153          763                   21                          41   81.0  \n",
       "3  218          912                   21                          43  257.0  \n",
       "4  158          946                   10                          42   82.0  "
      ]
     },
     "execution_count": 91,
     "metadata": {},
     "output_type": "execute_result"
    }
   ],
   "source": [
    "df.head()"
   ]
  },
  {
   "cell_type": "code",
   "execution_count": 92,
   "id": "5c8cedef",
   "metadata": {},
   "outputs": [
    {
     "name": "stdout",
     "output_type": "stream",
     "text": [
      "<class 'pandas.core.frame.DataFrame'>\n",
      "RangeIndex: 1100 entries, 0 to 1099\n",
      "Data columns (total 11 columns):\n",
      " #   Column                       Non-Null Count  Dtype  \n",
      "---  ------                       --------------  -----  \n",
      " 0   product_Name                 1100 non-null   object \n",
      " 1   types_of_product             1100 non-null   object \n",
      " 2    product_Brand               1100 non-null   object \n",
      " 3   unit_price                   1100 non-null   int64  \n",
      " 4   quantity                     1100 non-null   object \n",
      " 5   price                        1100 non-null   int64  \n",
      " 6   tax                          1100 non-null   int64  \n",
      " 7   total_price                  1100 non-null   int64  \n",
      " 8   product_availability         1100 non-null   object \n",
      " 9   product_target_availability  1100 non-null   object \n",
      " 10  D_O                          1100 non-null   float64\n",
      "dtypes: float64(1), int64(4), object(6)\n",
      "memory usage: 94.7+ KB\n"
     ]
    }
   ],
   "source": [
    "df.info()"
   ]
  },
  {
   "cell_type": "code",
   "execution_count": 93,
   "id": "2b70583f",
   "metadata": {},
   "outputs": [],
   "source": [
    "# Converting unit_price,product_availability and product_target_availability into float\n",
    "df['quantity'] = df['quantity'].astype(float)\n",
    "df['product_availability'] = df['product_availability'].astype(float)\n",
    "df['product_target_availability'] = df['product_target_availability'].astype(float)"
   ]
  },
  {
   "cell_type": "code",
   "execution_count": 94,
   "id": "e038ab97",
   "metadata": {},
   "outputs": [
    {
     "name": "stdout",
     "output_type": "stream",
     "text": [
      "<class 'pandas.core.frame.DataFrame'>\n",
      "RangeIndex: 1100 entries, 0 to 1099\n",
      "Data columns (total 11 columns):\n",
      " #   Column                       Non-Null Count  Dtype  \n",
      "---  ------                       --------------  -----  \n",
      " 0   product_Name                 1100 non-null   object \n",
      " 1   types_of_product             1100 non-null   object \n",
      " 2    product_Brand               1100 non-null   object \n",
      " 3   unit_price                   1100 non-null   int64  \n",
      " 4   quantity                     1100 non-null   float64\n",
      " 5   price                        1100 non-null   int64  \n",
      " 6   tax                          1100 non-null   int64  \n",
      " 7   total_price                  1100 non-null   int64  \n",
      " 8   product_availability         1100 non-null   float64\n",
      " 9   product_target_availability  1100 non-null   float64\n",
      " 10  D_O                          1100 non-null   float64\n",
      "dtypes: float64(4), int64(4), object(3)\n",
      "memory usage: 94.7+ KB\n"
     ]
    }
   ],
   "source": [
    "df.info()"
   ]
  },
  {
   "cell_type": "code",
   "execution_count": 95,
   "id": "8670e0c3",
   "metadata": {},
   "outputs": [
    {
     "data": {
      "text/plain": [
       "Text(0.5, 0, 'Total Days')"
      ]
     },
     "execution_count": 95,
     "metadata": {},
     "output_type": "execute_result"
    },
    {
     "data": {
      "image/png": "[encoded data removed]",
      "text/plain": [
       "<Figure size 432x288 with 1 Axes>"
      ]
     },
     "metadata": {
      "needs_background": "light"
     },
     "output_type": "display_data"
    }
   ],
   "source": [
    "df.groupby(by=' product_Brand')['D_O'].mean().plot(kind  ='barh')\n",
    "plt.xlabel('Total Days')"
   ]
  },
  {
   "cell_type": "code",
   "execution_count": 96,
   "id": "02c4e3ca",
   "metadata": {},
   "outputs": [
    {
     "data": {
      "text/plain": [
       "Text(0.5, 0, 'product_availability')"
      ]
     },
     "execution_count": 96,
     "metadata": {},
     "output_type": "execute_result"
    },
    {
     "data": {
      "image/png": "[encoded data removed]",
      "text/plain": [
       "<Figure size 432x288 with 1 Axes>"
      ]
     },
     "metadata": {
      "needs_background": "light"
     },
     "output_type": "display_data"
    }
   ],
   "source": [
    "df.groupby(by=' product_Brand')['product_availability'].mean().plot(kind  ='barh')\n",
    "plt.xlabel('product_availability')"
   ]
  },
  {
   "cell_type": "code",
   "execution_count": 97,
   "id": "afb9534a",
   "metadata": {},
   "outputs": [
    {
     "data": {
      "text/plain": [
       "Text(0.5, 0, 'tax')"
      ]
     },
     "execution_count": 97,
     "metadata": {},
     "output_type": "execute_result"
    },
    {
     "data": {
      "image/png": "[encoded data removed]",
      "text/plain": [
       "<Figure size 432x288 with 1 Axes>"
      ]
     },
     "metadata": {
      "needs_background": "light"
     },
     "output_type": "display_data"
    }
   ],
   "source": [
    "df.groupby(by=' product_Brand')['tax'].mean().plot(kind  ='barh')\n",
    "plt.xlabel('tax')"
   ]
  },
  {
   "cell_type": "code",
   "execution_count": 98,
   "id": "d9793880",
   "metadata": {},
   "outputs": [
    {
     "data": {
      "text/plain": [
       "Text(0.5, 0, 'product_target_availability')"
      ]
     },
     "execution_count": 98,
     "metadata": {},
     "output_type": "execute_result"
    },
    {
     "data": {
      "image/png": "[encoded data removed]",
      "text/plain": [
       "<Figure size 432x288 with 1 Axes>"
      ]
     },
     "metadata": {
      "needs_background": "light"
     },
     "output_type": "display_data"
    }
   ],
   "source": [
    "df.groupby(by=' product_Brand')['product_target_availability'].mean().plot(kind  ='barh')\n",
    "plt.xlabel('product_target_availability')"
   ]
  },
  {
   "cell_type": "code",
   "execution_count": 99,
   "id": "038a9a4a",
   "metadata": {},
   "outputs": [
    {
     "data": {
      "text/plain": [
       "Text(0.5, 0, 'unit_price')"
      ]
     },
     "execution_count": 99,
     "metadata": {},
     "output_type": "execute_result"
    },
    {
     "data": {
      "image/png": "[encoded data removed]",
      "text/plain": [
       "<Figure size 432x288 with 1 Axes>"
      ]
     },
     "metadata": {
      "needs_background": "light"
     },
     "output_type": "display_data"
    }
   ],
   "source": [
    "df.groupby(by=' product_Brand')['unit_price'].mean().plot(kind  ='barh')\n",
    "plt.xlabel('unit_price')"
   ]
  },
  {
   "cell_type": "code",
   "execution_count": 100,
   "id": "fb8e5711",
   "metadata": {},
   "outputs": [
    {
     "data": {
      "text/plain": [
       "Text(0.5, 0, 'Total Days')"
      ]
     },
     "execution_count": 100,
     "metadata": {},
     "output_type": "execute_result"
    },
    {
     "data": {
      "image/png": "[encoded data removed]",
      "text/plain": [
       "<Figure size 432x288 with 1 Axes>"
      ]
     },
     "metadata": {
      "needs_background": "light"
     },
     "output_type": "display_data"
    }
   ],
   "source": [
    "df.groupby(by='types_of_product')['D_O'].mean().plot(kind  ='barh')\n",
    "plt.xlabel('Total Days')"
   ]
  },
  {
   "cell_type": "code",
   "execution_count": 101,
   "id": "8f9ffdad",
   "metadata": {},
   "outputs": [
    {
     "data": {
      "text/plain": [
       "Text(0.5, 0, 'product_availability')"
      ]
     },
     "execution_count": 101,
     "metadata": {},
     "output_type": "execute_result"
    },
    {
     "data": {
      "image/png": "[encoded data removed]",
      "text/plain": [
       "<Figure size 432x288 with 1 Axes>"
      ]
     },
     "metadata": {
      "needs_background": "light"
     },
     "output_type": "display_data"
    }
   ],
   "source": [
    "df.groupby(by='types_of_product')['product_availability'].mean().plot(kind  ='barh')\n",
    "plt.xlabel('product_availability')"
   ]
  },
  {
   "cell_type": "code",
   "execution_count": 102,
   "id": "65531f07",
   "metadata": {},
   "outputs": [
    {
     "data": {
      "text/plain": [
       "Text(0.5, 0, 'product_target_availability')"
      ]
     },
     "execution_count": 102,
     "metadata": {},
     "output_type": "execute_result"
    },
    {
     "data": {
      "image/png": "[encoded data removed]",
      "text/plain": [
       "<Figure size 432x288 with 1 Axes>"
      ]
     },
     "metadata": {
      "needs_background": "light"
     },
     "output_type": "display_data"
    }
   ],
   "source": [
    "df.groupby(by='types_of_product')['product_target_availability'].mean().plot(kind  ='barh')\n",
    "plt.xlabel('product_target_availability')"
   ]
  },
  {
   "cell_type": "code",
   "execution_count": 103,
   "id": "7c506e62",
   "metadata": {},
   "outputs": [
    {
     "data": {
      "text/plain": [
       "Text(0.5, 0, 'tax')"
      ]
     },
     "execution_count": 103,
     "metadata": {},
     "output_type": "execute_result"
    },
    {
     "data": {
      "image/png": "[encoded data removed]",
      "text/plain": [
       "<Figure size 432x288 with 1 Axes>"
      ]
     },
     "metadata": {
      "needs_background": "light"
     },
     "output_type": "display_data"
    }
   ],
   "source": [
    "df.groupby(by='types_of_product')['tax'].mean().plot(kind  ='barh')\n",
    "plt.xlabel('tax')"
   ]
  },
  {
   "cell_type": "code",
   "execution_count": 104,
   "id": "5b67116e",
   "metadata": {},
   "outputs": [
    {
     "data": {
      "text/plain": [
       "Text(0.5, 0, 'unit_price')"
      ]
     },
     "execution_count": 104,
     "metadata": {},
     "output_type": "execute_result"
    },
    {
     "data": {
      "image/png": "[encoded data removed]",
      "text/plain": [
       "<Figure size 432x288 with 1 Axes>"
      ]
     },
     "metadata": {
      "needs_background": "light"
     },
     "output_type": "display_data"
    }
   ],
   "source": [
    "df.groupby(by='types_of_product')['unit_price'].mean().plot(kind  ='barh')\n",
    "plt.xlabel('unit_price')"
   ]
  },
  {
   "cell_type": "code",
   "execution_count": 105,
   "id": "d5c8c352",
   "metadata": {},
   "outputs": [
    {
     "data": {
      "text/html": [
       "<div>\n",
       "<style scoped>\n",
       "    .dataframe tbody tr th:only-of-type {\n",
       "        vertical-align: middle;\n",
       "    }\n",
       "\n",
       "    .dataframe tbody tr th {\n",
       "        vertical-align: top;\n",
       "    }\n",
       "\n",
       "    .dataframe thead th {\n",
       "        text-align: right;\n",
       "    }\n",
       "</style>\n",
       "<table border=\"1\" class=\"dataframe\">\n",
       "  <thead>\n",
       "    <tr style=\"text-align: right;\">\n",
       "      <th></th>\n",
       "      <th>product_availability</th>\n",
       "    </tr>\n",
       "    <tr>\n",
       "      <th>product_Name</th>\n",
       "      <th></th>\n",
       "    </tr>\n",
       "  </thead>\n",
       "  <tbody>\n",
       "    <tr>\n",
       "      <th>Uncle Chips</th>\n",
       "      <td>2434.0</td>\n",
       "    </tr>\n",
       "    <tr>\n",
       "      <th>Uncle Chips(spicy)</th>\n",
       "      <td>2215.0</td>\n",
       "    </tr>\n",
       "    <tr>\n",
       "      <th>Aloo Bhujia</th>\n",
       "      <td>1663.0</td>\n",
       "    </tr>\n",
       "    <tr>\n",
       "      <th>Gamesa</th>\n",
       "      <td>1647.0</td>\n",
       "    </tr>\n",
       "    <tr>\n",
       "      <th>Tasty Nuts</th>\n",
       "      <td>1562.0</td>\n",
       "    </tr>\n",
       "    <tr>\n",
       "      <th>Walker</th>\n",
       "      <td>1343.0</td>\n",
       "    </tr>\n",
       "    <tr>\n",
       "      <th>Aloe Vera Juice</th>\n",
       "      <td>1330.0</td>\n",
       "    </tr>\n",
       "    <tr>\n",
       "      <th>Bhujia Sev</th>\n",
       "      <td>1302.0</td>\n",
       "    </tr>\n",
       "    <tr>\n",
       "      <th>Quaker Oats</th>\n",
       "      <td>1231.0</td>\n",
       "    </tr>\n",
       "    <tr>\n",
       "      <th>Bhel Puri</th>\n",
       "      <td>1098.0</td>\n",
       "    </tr>\n",
       "  </tbody>\n",
       "</table>\n",
       "</div>"
      ],
      "text/plain": [
       "                    product_availability\n",
       "product_Name                            \n",
       "Uncle Chips                       2434.0\n",
       "Uncle Chips(spicy)                2215.0\n",
       "Aloo Bhujia                       1663.0\n",
       "Gamesa                            1647.0\n",
       "Tasty Nuts                        1562.0\n",
       "Walker                            1343.0\n",
       "Aloe Vera Juice                   1330.0\n",
       "Bhujia Sev                        1302.0\n",
       "Quaker Oats                       1231.0\n",
       "Bhel Puri                         1098.0"
      ]
     },
     "execution_count": 105,
     "metadata": {},
     "output_type": "execute_result"
    }
   ],
   "source": [
    "# Top 10 Products by availability\n",
    "\n",
    "# Grouping Product by target\n",
    "prod_sales = pd.DataFrame(df.groupby('product_Name').sum()['product_availability'])\n",
    "\n",
    "# Sorting the dataframe in descending order\n",
    "prod_sales.sort_values(by=['product_availability'],inplace=True,ascending=False)\n",
    "\n",
    "# Top 10 products by sales\n",
    "prod_sales[:10]"
   ]
  },
  {
   "cell_type": "code",
   "execution_count": 106,
   "id": "7c12abe7",
   "metadata": {},
   "outputs": [
    {
     "data": {
      "text/html": [
       "<div>\n",
       "<style scoped>\n",
       "    .dataframe tbody tr th:only-of-type {\n",
       "        vertical-align: middle;\n",
       "    }\n",
       "\n",
       "    .dataframe tbody tr th {\n",
       "        vertical-align: top;\n",
       "    }\n",
       "\n",
       "    .dataframe thead th {\n",
       "        text-align: right;\n",
       "    }\n",
       "</style>\n",
       "<table border=\"1\" class=\"dataframe\">\n",
       "  <thead>\n",
       "    <tr style=\"text-align: right;\">\n",
       "      <th></th>\n",
       "      <th>product_target_availability</th>\n",
       "    </tr>\n",
       "    <tr>\n",
       "      <th>product_Name</th>\n",
       "      <th></th>\n",
       "    </tr>\n",
       "  </thead>\n",
       "  <tbody>\n",
       "    <tr>\n",
       "      <th>Uncle Chips(spicy)</th>\n",
       "      <td>3944.0</td>\n",
       "    </tr>\n",
       "    <tr>\n",
       "      <th>Uncle Chips</th>\n",
       "      <td>3862.0</td>\n",
       "    </tr>\n",
       "    <tr>\n",
       "      <th>Aloo Bhujia</th>\n",
       "      <td>2925.0</td>\n",
       "    </tr>\n",
       "    <tr>\n",
       "      <th>Gamesa</th>\n",
       "      <td>2908.0</td>\n",
       "    </tr>\n",
       "    <tr>\n",
       "      <th>Tasty Nuts</th>\n",
       "      <td>2819.0</td>\n",
       "    </tr>\n",
       "    <tr>\n",
       "      <th>Walker</th>\n",
       "      <td>2492.0</td>\n",
       "    </tr>\n",
       "    <tr>\n",
       "      <th>Bhujia Sev</th>\n",
       "      <td>2393.0</td>\n",
       "    </tr>\n",
       "    <tr>\n",
       "      <th>Quaker Oats</th>\n",
       "      <td>2317.0</td>\n",
       "    </tr>\n",
       "    <tr>\n",
       "      <th>Women's Horlicks</th>\n",
       "      <td>2247.0</td>\n",
       "    </tr>\n",
       "    <tr>\n",
       "      <th>Mustard Oil</th>\n",
       "      <td>2172.0</td>\n",
       "    </tr>\n",
       "  </tbody>\n",
       "</table>\n",
       "</div>"
      ],
      "text/plain": [
       "                    product_target_availability\n",
       "product_Name                                   \n",
       "Uncle Chips(spicy)                       3944.0\n",
       "Uncle Chips                              3862.0\n",
       "Aloo Bhujia                              2925.0\n",
       "Gamesa                                   2908.0\n",
       "Tasty Nuts                               2819.0\n",
       "Walker                                   2492.0\n",
       "Bhujia Sev                               2393.0\n",
       "Quaker Oats                              2317.0\n",
       "Women's Horlicks                         2247.0\n",
       "Mustard Oil                              2172.0"
      ]
     },
     "execution_count": 106,
     "metadata": {},
     "output_type": "execute_result"
    }
   ],
   "source": [
    "# Top 10 Products by target\n",
    "\n",
    "# Grouping Product by target\n",
    "prod_sales = pd.DataFrame(df.groupby('product_Name').sum()['product_target_availability'])\n",
    "\n",
    "# Sorting the dataframe in descending order\n",
    "prod_sales.sort_values(by=['product_target_availability'],inplace=True,ascending=False)\n",
    "\n",
    "# Top 10 products by sales\n",
    "prod_sales[:10]"
   ]
  },
  {
   "cell_type": "markdown",
   "id": "b8f6a131",
   "metadata": {},
   "source": [
    "# Correlation Matrix"
   ]
  },
  {
   "cell_type": "code",
   "execution_count": 107,
   "id": "3ddb72f3",
   "metadata": {},
   "outputs": [
    {
     "data": {
      "text/plain": [
       "<AxesSubplot:>"
      ]
     },
     "execution_count": 107,
     "metadata": {},
     "output_type": "execute_result"
    },
    {
     "data": {
      "image/png": "[encoded data removed]",
      "text/plain": [
       "<Figure size 432x288 with 2 Axes>"
      ]
     },
     "metadata": {
      "needs_background": "light"
     },
     "output_type": "display_data"
    }
   ],
   "source": [
    "corr = df.corr()\n",
    "sns.heatmap(corr,annot=True,cmap='coolwarm')"
   ]
  },
  {
   "cell_type": "code",
   "execution_count": 108,
   "id": "47286d37",
   "metadata": {},
   "outputs": [
    {
     "data": {
      "text/plain": [
       "Index(['product_Name', 'types_of_product', ' product_Brand', 'unit_price',\n",
       "       'quantity', 'price', 'tax', 'total_price', 'product_availability',\n",
       "       'product_target_availability', 'D_O'],\n",
       "      dtype='object')"
      ]
     },
     "execution_count": 108,
     "metadata": {},
     "output_type": "execute_result"
    }
   ],
   "source": [
    "df.columns"
   ]
  },
  {
   "cell_type": "code",
   "execution_count": 109,
   "id": "163398fd",
   "metadata": {},
   "outputs": [],
   "source": [
    "df = pd.get_dummies(df,columns=['product_Name','product_availability', 'types_of_product',' product_Brand'])"
   ]
  },
  {
   "cell_type": "code",
   "execution_count": 110,
   "id": "fd2aa620",
   "metadata": {},
   "outputs": [
    {
     "data": {
      "text/plain": [
       "(1100, 121)"
      ]
     },
     "execution_count": 110,
     "metadata": {},
     "output_type": "execute_result"
    }
   ],
   "source": [
    "df.shape"
   ]
  },
  {
   "cell_type": "code",
   "execution_count": 111,
   "id": "c0b472ca",
   "metadata": {},
   "outputs": [
    {
     "data": {
      "text/html": [
       "<div>\n",
       "<style scoped>\n",
       "    .dataframe tbody tr th:only-of-type {\n",
       "        vertical-align: middle;\n",
       "    }\n",
       "\n",
       "    .dataframe tbody tr th {\n",
       "        vertical-align: top;\n",
       "    }\n",
       "\n",
       "    .dataframe thead th {\n",
       "        text-align: right;\n",
       "    }\n",
       "</style>\n",
       "<table border=\"1\" class=\"dataframe\">\n",
       "  <thead>\n",
       "    <tr style=\"text-align: right;\">\n",
       "      <th></th>\n",
       "      <th>unit_price</th>\n",
       "      <th>quantity</th>\n",
       "      <th>price</th>\n",
       "      <th>tax</th>\n",
       "      <th>total_price</th>\n",
       "      <th>product_target_availability</th>\n",
       "      <th>D_O</th>\n",
       "      <th>product_Name_Aloe Vera Juice</th>\n",
       "      <th>product_Name_Aloo Bhujia</th>\n",
       "      <th>product_Name_Amla Juice</th>\n",
       "      <th>...</th>\n",
       "      <th>product_Brand_Amul</th>\n",
       "      <th>product_Brand_Coca Cola</th>\n",
       "      <th>product_Brand_Engine</th>\n",
       "      <th>product_Brand_Freedom</th>\n",
       "      <th>product_Brand_Fruti</th>\n",
       "      <th>product_Brand_HUL</th>\n",
       "      <th>product_Brand_Haldiram</th>\n",
       "      <th>product_Brand_Patanjali</th>\n",
       "      <th>product_Brand_Pepsi</th>\n",
       "      <th>product_Brand_Uncle Chips</th>\n",
       "    </tr>\n",
       "  </thead>\n",
       "  <tbody>\n",
       "    <tr>\n",
       "      <th>0</th>\n",
       "      <td>10</td>\n",
       "      <td>0.45</td>\n",
       "      <td>300</td>\n",
       "      <td>200</td>\n",
       "      <td>500</td>\n",
       "      <td>10.0</td>\n",
       "      <td>1.0</td>\n",
       "      <td>0</td>\n",
       "      <td>0</td>\n",
       "      <td>0</td>\n",
       "      <td>...</td>\n",
       "      <td>0</td>\n",
       "      <td>0</td>\n",
       "      <td>0</td>\n",
       "      <td>0</td>\n",
       "      <td>1</td>\n",
       "      <td>0</td>\n",
       "      <td>0</td>\n",
       "      <td>0</td>\n",
       "      <td>0</td>\n",
       "      <td>0</td>\n",
       "    </tr>\n",
       "    <tr>\n",
       "      <th>1</th>\n",
       "      <td>74</td>\n",
       "      <td>5.00</td>\n",
       "      <td>100</td>\n",
       "      <td>80</td>\n",
       "      <td>180</td>\n",
       "      <td>49.0</td>\n",
       "      <td>168.0</td>\n",
       "      <td>0</td>\n",
       "      <td>0</td>\n",
       "      <td>0</td>\n",
       "      <td>...</td>\n",
       "      <td>0</td>\n",
       "      <td>1</td>\n",
       "      <td>0</td>\n",
       "      <td>0</td>\n",
       "      <td>0</td>\n",
       "      <td>0</td>\n",
       "      <td>0</td>\n",
       "      <td>0</td>\n",
       "      <td>0</td>\n",
       "      <td>0</td>\n",
       "    </tr>\n",
       "    <tr>\n",
       "      <th>2</th>\n",
       "      <td>15</td>\n",
       "      <td>10.00</td>\n",
       "      <td>610</td>\n",
       "      <td>153</td>\n",
       "      <td>763</td>\n",
       "      <td>41.0</td>\n",
       "      <td>81.0</td>\n",
       "      <td>0</td>\n",
       "      <td>0</td>\n",
       "      <td>0</td>\n",
       "      <td>...</td>\n",
       "      <td>0</td>\n",
       "      <td>1</td>\n",
       "      <td>0</td>\n",
       "      <td>0</td>\n",
       "      <td>0</td>\n",
       "      <td>0</td>\n",
       "      <td>0</td>\n",
       "      <td>0</td>\n",
       "      <td>0</td>\n",
       "      <td>0</td>\n",
       "    </tr>\n",
       "    <tr>\n",
       "      <th>3</th>\n",
       "      <td>25</td>\n",
       "      <td>7.00</td>\n",
       "      <td>694</td>\n",
       "      <td>218</td>\n",
       "      <td>912</td>\n",
       "      <td>43.0</td>\n",
       "      <td>257.0</td>\n",
       "      <td>0</td>\n",
       "      <td>0</td>\n",
       "      <td>0</td>\n",
       "      <td>...</td>\n",
       "      <td>0</td>\n",
       "      <td>1</td>\n",
       "      <td>0</td>\n",
       "      <td>0</td>\n",
       "      <td>0</td>\n",
       "      <td>0</td>\n",
       "      <td>0</td>\n",
       "      <td>0</td>\n",
       "      <td>0</td>\n",
       "      <td>0</td>\n",
       "    </tr>\n",
       "    <tr>\n",
       "      <th>4</th>\n",
       "      <td>49</td>\n",
       "      <td>7.00</td>\n",
       "      <td>788</td>\n",
       "      <td>158</td>\n",
       "      <td>946</td>\n",
       "      <td>42.0</td>\n",
       "      <td>82.0</td>\n",
       "      <td>0</td>\n",
       "      <td>0</td>\n",
       "      <td>0</td>\n",
       "      <td>...</td>\n",
       "      <td>0</td>\n",
       "      <td>1</td>\n",
       "      <td>0</td>\n",
       "      <td>0</td>\n",
       "      <td>0</td>\n",
       "      <td>0</td>\n",
       "      <td>0</td>\n",
       "      <td>0</td>\n",
       "      <td>0</td>\n",
       "      <td>0</td>\n",
       "    </tr>\n",
       "  </tbody>\n",
       "</table>\n",
       "<p>5 rows × 121 columns</p>\n",
       "</div>"
      ],
      "text/plain": [
       "   unit_price  quantity  price  tax  total_price  product_target_availability  \\\n",
       "0          10      0.45    300  200          500                         10.0   \n",
       "1          74      5.00    100   80          180                         49.0   \n",
       "2          15     10.00    610  153          763                         41.0   \n",
       "3          25      7.00    694  218          912                         43.0   \n",
       "4          49      7.00    788  158          946                         42.0   \n",
       "\n",
       "     D_O  product_Name_Aloe Vera Juice  product_Name_Aloo Bhujia  \\\n",
       "0    1.0                             0                         0   \n",
       "1  168.0                             0                         0   \n",
       "2   81.0                             0                         0   \n",
       "3  257.0                             0                         0   \n",
       "4   82.0                             0                         0   \n",
       "\n",
       "   product_Name_Amla Juice  ...   product_Brand_Amul  \\\n",
       "0                        0  ...                    0   \n",
       "1                        0  ...                    0   \n",
       "2                        0  ...                    0   \n",
       "3                        0  ...                    0   \n",
       "4                        0  ...                    0   \n",
       "\n",
       "    product_Brand_Coca Cola   product_Brand_Engine   product_Brand_Freedom  \\\n",
       "0                         0                      0                       0   \n",
       "1                         1                      0                       0   \n",
       "2                         1                      0                       0   \n",
       "3                         1                      0                       0   \n",
       "4                         1                      0                       0   \n",
       "\n",
       "    product_Brand_Fruti   product_Brand_HUL   product_Brand_Haldiram  \\\n",
       "0                     1                   0                        0   \n",
       "1                     0                   0                        0   \n",
       "2                     0                   0                        0   \n",
       "3                     0                   0                        0   \n",
       "4                     0                   0                        0   \n",
       "\n",
       "    product_Brand_Patanjali   product_Brand_Pepsi   product_Brand_Uncle Chips  \n",
       "0                         0                     0                           0  \n",
       "1                         0                     0                           0  \n",
       "2                         0                     0                           0  \n",
       "3                         0                     0                           0  \n",
       "4                         0                     0                           0  \n",
       "\n",
       "[5 rows x 121 columns]"
      ]
     },
     "execution_count": 111,
     "metadata": {},
     "output_type": "execute_result"
    }
   ],
   "source": [
    "df.head()"
   ]
  },
  {
   "cell_type": "code",
   "execution_count": 112,
   "id": "04bd4939",
   "metadata": {},
   "outputs": [
    {
     "name": "stdout",
     "output_type": "stream",
     "text": [
      "<class 'pandas.core.frame.DataFrame'>\n",
      "RangeIndex: 1100 entries, 0 to 1099\n",
      "Columns: 121 entries, unit_price to  product_Brand_Uncle Chips\n",
      "dtypes: float64(3), int64(4), uint8(114)\n",
      "memory usage: 182.7 KB\n"
     ]
    }
   ],
   "source": [
    "df.info()"
   ]
  },
  {
   "cell_type": "markdown",
   "id": "c6da4d55",
   "metadata": {},
   "source": [
    "# Input Split"
   ]
  },
  {
   "cell_type": "code",
   "execution_count": 113,
   "id": "97d4b735",
   "metadata": {},
   "outputs": [],
   "source": [
    "X = df.loc[:, df.columns != 'product_availability']\n",
    "y = df.iloc[:,5].values"
   ]
  },
  {
   "cell_type": "markdown",
   "id": "153c0c6b",
   "metadata": {},
   "source": [
    "# Model Training and Testing"
   ]
  },
  {
   "cell_type": "code",
   "execution_count": 114,
   "id": "95bc100e",
   "metadata": {},
   "outputs": [
    {
     "name": "stdout",
     "output_type": "stream",
     "text": [
      "Shape of X_train: (880, 121)\n",
      "Shape of X_test: (220, 121)\n",
      "Shape of y_train: (880,)\n",
      "Shape of y_test: (220,)\n"
     ]
    }
   ],
   "source": [
    "from sklearn.model_selection import train_test_split\n",
    "X_train,X_test,y_train,y_test = train_test_split(X,y,test_size=0.2)\n",
    "print(\"Shape of X_train:\",X_train.shape)\n",
    "print(\"Shape of X_test:\",X_test.shape)\n",
    "print(\"Shape of y_train:\",y_train.shape)\n",
    "print(\"Shape of y_test:\",y_test.shape)"
   ]
  },
  {
   "cell_type": "markdown",
   "id": "feef047e",
   "metadata": {},
   "source": [
    "# Linear Regression"
   ]
  },
  {
   "cell_type": "code",
   "execution_count": 115,
   "id": "237ba45a",
   "metadata": {},
   "outputs": [],
   "source": [
    "X_train,X_test,y_train,y_test = train_test_split(X,y,test_size=0.30)\n",
    "from sklearn.linear_model import LinearRegression\n",
    "model = LinearRegression()\n",
    "model.fit(X_train,y_train)\n",
    "y_pred = model.predict(X_test)"
   ]
  },
  {
   "cell_type": "code",
   "execution_count": 116,
   "id": "fe40e4e1",
   "metadata": {},
   "outputs": [
    {
     "data": {
      "text/html": [
       "<div>\n",
       "<style scoped>\n",
       "    .dataframe tbody tr th:only-of-type {\n",
       "        vertical-align: middle;\n",
       "    }\n",
       "\n",
       "    .dataframe tbody tr th {\n",
       "        vertical-align: top;\n",
       "    }\n",
       "\n",
       "    .dataframe thead th {\n",
       "        text-align: right;\n",
       "    }\n",
       "</style>\n",
       "<table border=\"1\" class=\"dataframe\">\n",
       "  <thead>\n",
       "    <tr style=\"text-align: right;\">\n",
       "      <th></th>\n",
       "      <th>Actual</th>\n",
       "      <th>Predicted</th>\n",
       "    </tr>\n",
       "  </thead>\n",
       "  <tbody>\n",
       "    <tr>\n",
       "      <th>0</th>\n",
       "      <td>44.0</td>\n",
       "      <td>44.000000</td>\n",
       "    </tr>\n",
       "    <tr>\n",
       "      <th>1</th>\n",
       "      <td>81.0</td>\n",
       "      <td>81.000000</td>\n",
       "    </tr>\n",
       "    <tr>\n",
       "      <th>2</th>\n",
       "      <td>54.0</td>\n",
       "      <td>54.000000</td>\n",
       "    </tr>\n",
       "    <tr>\n",
       "      <th>3</th>\n",
       "      <td>51.0</td>\n",
       "      <td>51.000000</td>\n",
       "    </tr>\n",
       "    <tr>\n",
       "      <th>4</th>\n",
       "      <td>59.0</td>\n",
       "      <td>59.000000</td>\n",
       "    </tr>\n",
       "    <tr>\n",
       "      <th>5</th>\n",
       "      <td>40.0</td>\n",
       "      <td>40.000000</td>\n",
       "    </tr>\n",
       "    <tr>\n",
       "      <th>6</th>\n",
       "      <td>90.0</td>\n",
       "      <td>89.999993</td>\n",
       "    </tr>\n",
       "    <tr>\n",
       "      <th>7</th>\n",
       "      <td>61.0</td>\n",
       "      <td>61.000000</td>\n",
       "    </tr>\n",
       "    <tr>\n",
       "      <th>8</th>\n",
       "      <td>54.0</td>\n",
       "      <td>54.000000</td>\n",
       "    </tr>\n",
       "    <tr>\n",
       "      <th>9</th>\n",
       "      <td>50.0</td>\n",
       "      <td>50.000000</td>\n",
       "    </tr>\n",
       "    <tr>\n",
       "      <th>10</th>\n",
       "      <td>56.0</td>\n",
       "      <td>56.000000</td>\n",
       "    </tr>\n",
       "    <tr>\n",
       "      <th>11</th>\n",
       "      <td>54.0</td>\n",
       "      <td>54.000000</td>\n",
       "    </tr>\n",
       "    <tr>\n",
       "      <th>12</th>\n",
       "      <td>65.0</td>\n",
       "      <td>65.000000</td>\n",
       "    </tr>\n",
       "    <tr>\n",
       "      <th>13</th>\n",
       "      <td>55.0</td>\n",
       "      <td>55.000000</td>\n",
       "    </tr>\n",
       "    <tr>\n",
       "      <th>14</th>\n",
       "      <td>72.0</td>\n",
       "      <td>72.000000</td>\n",
       "    </tr>\n",
       "    <tr>\n",
       "      <th>15</th>\n",
       "      <td>59.0</td>\n",
       "      <td>59.000000</td>\n",
       "    </tr>\n",
       "    <tr>\n",
       "      <th>16</th>\n",
       "      <td>44.0</td>\n",
       "      <td>44.000000</td>\n",
       "    </tr>\n",
       "    <tr>\n",
       "      <th>17</th>\n",
       "      <td>53.0</td>\n",
       "      <td>53.000000</td>\n",
       "    </tr>\n",
       "    <tr>\n",
       "      <th>18</th>\n",
       "      <td>52.0</td>\n",
       "      <td>52.000000</td>\n",
       "    </tr>\n",
       "    <tr>\n",
       "      <th>19</th>\n",
       "      <td>44.0</td>\n",
       "      <td>44.000000</td>\n",
       "    </tr>\n",
       "  </tbody>\n",
       "</table>\n",
       "</div>"
      ],
      "text/plain": [
       "    Actual  Predicted\n",
       "0     44.0  44.000000\n",
       "1     81.0  81.000000\n",
       "2     54.0  54.000000\n",
       "3     51.0  51.000000\n",
       "4     59.0  59.000000\n",
       "5     40.0  40.000000\n",
       "6     90.0  89.999993\n",
       "7     61.0  61.000000\n",
       "8     54.0  54.000000\n",
       "9     50.0  50.000000\n",
       "10    56.0  56.000000\n",
       "11    54.0  54.000000\n",
       "12    65.0  65.000000\n",
       "13    55.0  55.000000\n",
       "14    72.0  72.000000\n",
       "15    59.0  59.000000\n",
       "16    44.0  44.000000\n",
       "17    53.0  53.000000\n",
       "18    52.0  52.000000\n",
       "19    44.0  44.000000"
      ]
     },
     "execution_count": 116,
     "metadata": {},
     "output_type": "execute_result"
    }
   ],
   "source": [
    "df = pd.DataFrame({'Actual': y_test, 'Predicted': y_pred})\n",
    "df.head(20)"
   ]
  },
  {
   "cell_type": "code",
   "execution_count": 117,
   "id": "45f6dddc",
   "metadata": {},
   "outputs": [
    {
     "data": {
      "text/plain": [
       "0.9999999999999937"
      ]
     },
     "execution_count": 117,
     "metadata": {},
     "output_type": "execute_result"
    }
   ],
   "source": [
    "model.score(X_test,y_test)"
   ]
  },
  {
   "cell_type": "code",
   "execution_count": 118,
   "id": "1516f6d3",
   "metadata": {},
   "outputs": [],
   "source": [
    "from sklearn.ensemble import RandomForestClassifier\n",
    "X_train,X_test,y_train,y_test = train_test_split(X,y,test_size=0.20)"
   ]
  },
  {
   "cell_type": "code",
   "execution_count": 119,
   "id": "b6e71cba",
   "metadata": {},
   "outputs": [
    {
     "data": {
      "text/plain": [
       "RandomForestClassifier(n_estimators=30)"
      ]
     },
     "execution_count": 119,
     "metadata": {},
     "output_type": "execute_result"
    }
   ],
   "source": [
    "rfc  = RandomForestClassifier(n_estimators=30)\n",
    "rfc.fit(X_train,y_train)"
   ]
  },
  {
   "cell_type": "code",
   "execution_count": 120,
   "id": "95dce7ed",
   "metadata": {},
   "outputs": [
    {
     "data": {
      "text/plain": [
       "0.37727272727272726"
      ]
     },
     "execution_count": 120,
     "metadata": {},
     "output_type": "execute_result"
    }
   ],
   "source": [
    "rfc.score(X_test,y_test)"
   ]
  },
  {
   "cell_type": "code",
   "execution_count": null,
   "id": "bc0b3804",
   "metadata": {},
   "outputs": [],
   "source": []
  }
 ],
 "metadata": {
  "kernelspec": {
   "display_name": "Python 3",
   "language": "python",
   "name": "python3"
  },
  "language_info": {
   "codemirror_mode": {
    "name": "ipython",
    "version": 3
   },
   "file_extension": ".py",
   "mimetype": "text/x-python",
   "name": "python",
   "nbconvert_exporter": "python",
   "pygments_lexer": "ipython3",
   "version": "3.8.8"
  }
 },
 "nbformat": 4,
 "nbformat_minor": 5
}
