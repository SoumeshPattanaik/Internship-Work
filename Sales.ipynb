{
 "cells": [
  {
   "cell_type": "code",
   "execution_count": 40,
   "id": "a8a185c5",
   "metadata": {},
   "outputs": [],
   "source": [
    "import pandas as pd\n",
    "import numpy as np\n",
    "import matplotlib.pyplot as plt\n",
    "import warnings\n",
    "import seaborn as sns\n",
    "from datetime import datetime\n",
    "%matplotlib inline\n",
    "warnings.filterwarnings('ignore')"
   ]
  },
  {
   "cell_type": "markdown",
   "id": "92e3d194",
   "metadata": {},
   "source": [
    "# Loading the dataset"
   ]
  },
  {
   "cell_type": "code",
   "execution_count": 41,
   "id": "4a729639",
   "metadata": {},
   "outputs": [
    {
     "data": {
      "text/html": [
       "<div>\n",
       "<style scoped>\n",
       "    .dataframe tbody tr th:only-of-type {\n",
       "        vertical-align: middle;\n",
       "    }\n",
       "\n",
       "    .dataframe tbody tr th {\n",
       "        vertical-align: top;\n",
       "    }\n",
       "\n",
       "    .dataframe thead th {\n",
       "        text-align: right;\n",
       "    }\n",
       "</style>\n",
       "<table border=\"1\" class=\"dataframe\">\n",
       "  <thead>\n",
       "    <tr style=\"text-align: right;\">\n",
       "      <th></th>\n",
       "      <th>item_id</th>\n",
       "      <th>product_name</th>\n",
       "      <th>Product_type</th>\n",
       "      <th>sales _date</th>\n",
       "      <th>unit_price</th>\n",
       "      <th>unit_sale</th>\n",
       "      <th>discounted_price</th>\n",
       "      <th>total_price</th>\n",
       "      <th>Gender</th>\n",
       "      <th>Location</th>\n",
       "      <th>Brand_of_the_product</th>\n",
       "    </tr>\n",
       "  </thead>\n",
       "  <tbody>\n",
       "    <tr>\n",
       "      <th>0</th>\n",
       "      <td>AU001</td>\n",
       "      <td>fruti</td>\n",
       "      <td>Liquid</td>\n",
       "      <td>12-09-2021</td>\n",
       "      <td>30</td>\n",
       "      <td>10</td>\n",
       "      <td>250</td>\n",
       "      <td>300</td>\n",
       "      <td>1</td>\n",
       "      <td>xyz</td>\n",
       "      <td>YYYY</td>\n",
       "    </tr>\n",
       "    <tr>\n",
       "      <th>1</th>\n",
       "      <td>AU002</td>\n",
       "      <td>Sanitiser</td>\n",
       "      <td>Liquid</td>\n",
       "      <td>12-09-2021</td>\n",
       "      <td>120</td>\n",
       "      <td>5</td>\n",
       "      <td>220</td>\n",
       "      <td>600</td>\n",
       "      <td>0</td>\n",
       "      <td>yyx</td>\n",
       "      <td>ZZZZ</td>\n",
       "    </tr>\n",
       "    <tr>\n",
       "      <th>2</th>\n",
       "      <td>AU003</td>\n",
       "      <td>Dish Washer</td>\n",
       "      <td>Liquid</td>\n",
       "      <td>07-05-2021</td>\n",
       "      <td>3545</td>\n",
       "      <td>246</td>\n",
       "      <td>334</td>\n",
       "      <td>872070</td>\n",
       "      <td>0</td>\n",
       "      <td>pqr</td>\n",
       "      <td>SSSS</td>\n",
       "    </tr>\n",
       "    <tr>\n",
       "      <th>3</th>\n",
       "      <td>AU004</td>\n",
       "      <td>Handwash</td>\n",
       "      <td>Liquid</td>\n",
       "      <td>05-03-2021</td>\n",
       "      <td>1102</td>\n",
       "      <td>140</td>\n",
       "      <td>466</td>\n",
       "      <td>154280</td>\n",
       "      <td>1</td>\n",
       "      <td>rta</td>\n",
       "      <td>KLAS</td>\n",
       "    </tr>\n",
       "    <tr>\n",
       "      <th>4</th>\n",
       "      <td>AU005</td>\n",
       "      <td>Dish Washer</td>\n",
       "      <td>Liquid</td>\n",
       "      <td>16-09-2021</td>\n",
       "      <td>1464</td>\n",
       "      <td>300</td>\n",
       "      <td>349</td>\n",
       "      <td>439200</td>\n",
       "      <td>0</td>\n",
       "      <td>kmn</td>\n",
       "      <td>GREATBEAR ST BTX</td>\n",
       "    </tr>\n",
       "  </tbody>\n",
       "</table>\n",
       "</div>"
      ],
      "text/plain": [
       "  item_id  product_name Product_type sales _date  unit_price  unit_sale  \\\n",
       "0    AU001        fruti       Liquid  12-09-2021          30         10   \n",
       "1    AU002    Sanitiser       Liquid  12-09-2021         120          5   \n",
       "2    AU003  Dish Washer       Liquid  07-05-2021        3545        246   \n",
       "3    AU004     Handwash       Liquid  05-03-2021        1102        140   \n",
       "4    AU005  Dish Washer       Liquid  16-09-2021        1464        300   \n",
       "\n",
       "   discounted_price  total_price  Gender Location Brand_of_the_product  \n",
       "0               250          300       1      xyz                 YYYY  \n",
       "1               220          600       0      yyx                 ZZZZ  \n",
       "2               334       872070       0      pqr                 SSSS  \n",
       "3               466       154280       1      rta                 KLAS  \n",
       "4               349       439200       0      kmn     GREATBEAR ST BTX  "
      ]
     },
     "execution_count": 41,
     "metadata": {},
     "output_type": "execute_result"
    }
   ],
   "source": [
    "df = pd.read_csv('_data set_sales.csv')\n",
    "df.head()"
   ]
  },
  {
   "cell_type": "code",
   "execution_count": 42,
   "id": "0b041689",
   "metadata": {},
   "outputs": [
    {
     "data": {
      "text/html": [
       "<div>\n",
       "<style scoped>\n",
       "    .dataframe tbody tr th:only-of-type {\n",
       "        vertical-align: middle;\n",
       "    }\n",
       "\n",
       "    .dataframe tbody tr th {\n",
       "        vertical-align: top;\n",
       "    }\n",
       "\n",
       "    .dataframe thead th {\n",
       "        text-align: right;\n",
       "    }\n",
       "</style>\n",
       "<table border=\"1\" class=\"dataframe\">\n",
       "  <thead>\n",
       "    <tr style=\"text-align: right;\">\n",
       "      <th></th>\n",
       "      <th>unit_price</th>\n",
       "      <th>unit_sale</th>\n",
       "      <th>discounted_price</th>\n",
       "      <th>total_price</th>\n",
       "      <th>Gender</th>\n",
       "    </tr>\n",
       "  </thead>\n",
       "  <tbody>\n",
       "    <tr>\n",
       "      <th>count</th>\n",
       "      <td>1100.000000</td>\n",
       "      <td>1100.000000</td>\n",
       "      <td>1100.000000</td>\n",
       "      <td>1.100000e+03</td>\n",
       "      <td>1100.000000</td>\n",
       "    </tr>\n",
       "    <tr>\n",
       "      <th>mean</th>\n",
       "      <td>3515.487273</td>\n",
       "      <td>176.130909</td>\n",
       "      <td>370.461818</td>\n",
       "      <td>6.312567e+05</td>\n",
       "      <td>0.508182</td>\n",
       "    </tr>\n",
       "    <tr>\n",
       "      <th>std</th>\n",
       "      <td>1017.378615</td>\n",
       "      <td>77.078828</td>\n",
       "      <td>110.114042</td>\n",
       "      <td>3.365225e+05</td>\n",
       "      <td>0.500160</td>\n",
       "    </tr>\n",
       "    <tr>\n",
       "      <th>min</th>\n",
       "      <td>30.000000</td>\n",
       "      <td>1.000000</td>\n",
       "      <td>150.000000</td>\n",
       "      <td>3.000000e+02</td>\n",
       "      <td>0.000000</td>\n",
       "    </tr>\n",
       "    <tr>\n",
       "      <th>25%</th>\n",
       "      <td>3016.000000</td>\n",
       "      <td>121.000000</td>\n",
       "      <td>288.750000</td>\n",
       "      <td>3.766372e+05</td>\n",
       "      <td>0.000000</td>\n",
       "    </tr>\n",
       "    <tr>\n",
       "      <th>50%</th>\n",
       "      <td>3676.000000</td>\n",
       "      <td>180.000000</td>\n",
       "      <td>372.500000</td>\n",
       "      <td>6.108280e+05</td>\n",
       "      <td>1.000000</td>\n",
       "    </tr>\n",
       "    <tr>\n",
       "      <th>75%</th>\n",
       "      <td>4307.000000</td>\n",
       "      <td>241.000000</td>\n",
       "      <td>456.250000</td>\n",
       "      <td>8.880630e+05</td>\n",
       "      <td>1.000000</td>\n",
       "    </tr>\n",
       "    <tr>\n",
       "      <th>max</th>\n",
       "      <td>4996.000000</td>\n",
       "      <td>300.000000</td>\n",
       "      <td>599.000000</td>\n",
       "      <td>1.438642e+06</td>\n",
       "      <td>1.000000</td>\n",
       "    </tr>\n",
       "  </tbody>\n",
       "</table>\n",
       "</div>"
      ],
      "text/plain": [
       "        unit_price    unit_sale  discounted_price   total_price       Gender\n",
       "count  1100.000000  1100.000000       1100.000000  1.100000e+03  1100.000000\n",
       "mean   3515.487273   176.130909        370.461818  6.312567e+05     0.508182\n",
       "std    1017.378615    77.078828        110.114042  3.365225e+05     0.500160\n",
       "min      30.000000     1.000000        150.000000  3.000000e+02     0.000000\n",
       "25%    3016.000000   121.000000        288.750000  3.766372e+05     0.000000\n",
       "50%    3676.000000   180.000000        372.500000  6.108280e+05     1.000000\n",
       "75%    4307.000000   241.000000        456.250000  8.880630e+05     1.000000\n",
       "max    4996.000000   300.000000        599.000000  1.438642e+06     1.000000"
      ]
     },
     "execution_count": 42,
     "metadata": {},
     "output_type": "execute_result"
    }
   ],
   "source": [
    "# statisctical info\n",
    "df.describe()"
   ]
  },
  {
   "cell_type": "code",
   "execution_count": 43,
   "id": "44ba5fd3",
   "metadata": {},
   "outputs": [
    {
     "name": "stdout",
     "output_type": "stream",
     "text": [
      "<class 'pandas.core.frame.DataFrame'>\n",
      "RangeIndex: 1100 entries, 0 to 1099\n",
      "Data columns (total 11 columns):\n",
      " #   Column                Non-Null Count  Dtype \n",
      "---  ------                --------------  ----- \n",
      " 0   item_id               1100 non-null   object\n",
      " 1   product_name          1100 non-null   object\n",
      " 2   Product_type          1100 non-null   object\n",
      " 3   sales _date           1100 non-null   object\n",
      " 4   unit_price            1100 non-null   int64 \n",
      " 5   unit_sale             1100 non-null   int64 \n",
      " 6   discounted_price      1100 non-null   int64 \n",
      " 7   total_price           1100 non-null   int64 \n",
      " 8   Gender                1100 non-null   int64 \n",
      " 9   Location              1100 non-null   object\n",
      " 10  Brand_of_the_product  1100 non-null   object\n",
      "dtypes: int64(5), object(6)\n",
      "memory usage: 94.7+ KB\n"
     ]
    }
   ],
   "source": [
    "# datatype attributes\n",
    "df.info()"
   ]
  },
  {
   "cell_type": "code",
   "execution_count": 44,
   "id": "b572fa26",
   "metadata": {},
   "outputs": [],
   "source": [
    "# converting sales_date in datetime format\n",
    "df['sales _date'] = pd.to_datetime(df['sales _date'])"
   ]
  },
  {
   "cell_type": "code",
   "execution_count": 45,
   "id": "b0b8998d",
   "metadata": {},
   "outputs": [
    {
     "name": "stdout",
     "output_type": "stream",
     "text": [
      "<class 'pandas.core.frame.DataFrame'>\n",
      "RangeIndex: 1100 entries, 0 to 1099\n",
      "Data columns (total 11 columns):\n",
      " #   Column                Non-Null Count  Dtype         \n",
      "---  ------                --------------  -----         \n",
      " 0   item_id               1100 non-null   object        \n",
      " 1   product_name          1100 non-null   object        \n",
      " 2   Product_type          1100 non-null   object        \n",
      " 3   sales _date           1100 non-null   datetime64[ns]\n",
      " 4   unit_price            1100 non-null   int64         \n",
      " 5   unit_sale             1100 non-null   int64         \n",
      " 6   discounted_price      1100 non-null   int64         \n",
      " 7   total_price           1100 non-null   int64         \n",
      " 8   Gender                1100 non-null   int64         \n",
      " 9   Location              1100 non-null   object        \n",
      " 10  Brand_of_the_product  1100 non-null   object        \n",
      "dtypes: datetime64[ns](1), int64(5), object(5)\n",
      "memory usage: 94.7+ KB\n"
     ]
    }
   ],
   "source": [
    "df.info()"
   ]
  },
  {
   "cell_type": "code",
   "execution_count": 46,
   "id": "cd029741",
   "metadata": {},
   "outputs": [
    {
     "data": {
      "text/plain": [
       "item_id                 1100\n",
       "product_name              57\n",
       "Product_type               5\n",
       "sales _date              351\n",
       "unit_price               939\n",
       "unit_sale                277\n",
       "discounted_price         391\n",
       "total_price             1099\n",
       "Gender                     2\n",
       "Location                  24\n",
       "Brand_of_the_product      29\n",
       "dtype: int64"
      ]
     },
     "execution_count": 46,
     "metadata": {},
     "output_type": "execute_result"
    }
   ],
   "source": [
    "# checking unique value in dataset\n",
    "df.apply(lambda x: len(x.unique()))"
   ]
  },
  {
   "cell_type": "code",
   "execution_count": 47,
   "id": "b767562d",
   "metadata": {},
   "outputs": [
    {
     "data": {
      "text/plain": [
       "(1100, 11)"
      ]
     },
     "execution_count": 47,
     "metadata": {},
     "output_type": "execute_result"
    }
   ],
   "source": [
    "df.shape"
   ]
  },
  {
   "cell_type": "markdown",
   "id": "ebdff35b",
   "metadata": {},
   "source": [
    "# Preprocessing the dataset "
   ]
  },
  {
   "cell_type": "code",
   "execution_count": 48,
   "id": "55df7f1f",
   "metadata": {},
   "outputs": [
    {
     "data": {
      "text/plain": [
       "item_id                 0\n",
       "product_name            0\n",
       "Product_type            0\n",
       "sales _date             0\n",
       "unit_price              0\n",
       "unit_sale               0\n",
       "discounted_price        0\n",
       "total_price             0\n",
       "Gender                  0\n",
       "Location                0\n",
       "Brand_of_the_product    0\n",
       "dtype: int64"
      ]
     },
     "execution_count": 48,
     "metadata": {},
     "output_type": "execute_result"
    }
   ],
   "source": [
    "# check for null values\n",
    "df.isnull().sum()"
   ]
  },
  {
   "cell_type": "code",
   "execution_count": 49,
   "id": "2b106494",
   "metadata": {},
   "outputs": [
    {
     "data": {
      "text/plain": [
       "['item_id ',\n",
       " 'product_name',\n",
       " 'Product_type',\n",
       " 'Location',\n",
       " 'Brand_of_the_product']"
      ]
     },
     "execution_count": 49,
     "metadata": {},
     "output_type": "execute_result"
    }
   ],
   "source": [
    "# checking for categorical attributes\n",
    "cat_col = []\n",
    "for x in df.dtypes.index:\n",
    "    if df.dtypes[x] == 'object':\n",
    "        cat_col.append(x)\n",
    "cat_col"
   ]
  },
  {
   "cell_type": "code",
   "execution_count": 50,
   "id": "d21c253c",
   "metadata": {},
   "outputs": [
    {
     "data": {
      "text/plain": [
       "['product_name', 'Product_type', 'Location', 'Brand_of_the_product']"
      ]
     },
     "execution_count": 50,
     "metadata": {},
     "output_type": "execute_result"
    }
   ],
   "source": [
    "cat_col.remove('item_id ')\n",
    "cat_col"
   ]
  },
  {
   "cell_type": "code",
   "execution_count": 51,
   "id": "028595b2",
   "metadata": {},
   "outputs": [
    {
     "name": "stdout",
     "output_type": "stream",
     "text": [
      "product_name\n",
      "Tie                    63\n",
      "Belt(L)                52\n",
      "Torch                  42\n",
      "Atlas                  42\n",
      "Wallets                41\n",
      "Diary                  41\n",
      "Belt                   40\n",
      "Laxmikanth             36\n",
      "Scrap Book             34\n",
      "Capacitor              33\n",
      "LED                    31\n",
      "Globe                  30\n",
      "Cu-Wire                29\n",
      "Spectrum               29\n",
      "Bucket                 28\n",
      "Stablizer              27\n",
      "Tube Light             25\n",
      "Motor                  25\n",
      "Dish Washer            25\n",
      "Handkerchief           24\n",
      "Mug                    23\n",
      "Socket                 22\n",
      "Sanitiser              22\n",
      "Liquid Detergent       21\n",
      "Soap Bar               20\n",
      "Suitcase               20\n",
      "Handwash               19\n",
      "Tooth Brush            18\n",
      "Shoes                  18\n",
      "Handwash(F)            18\n",
      "Vests                  17\n",
      "Smart Phone            15\n",
      "Cap                    15\n",
      "Antiseptic             15\n",
      "Speaker                15\n",
      "Cough Syrup            14\n",
      "Mop                    13\n",
      "Study Lamp             11\n",
      "Toilet Cleanser        11\n",
      "Pencil                 10\n",
      "Lofa                    9\n",
      "Emer. Light             8\n",
      "Fruti                   7\n",
      "Laptop                  7\n",
      "Phenyl                  6\n",
      "Pen                     6\n",
      "A4 Paper                5\n",
      "Liquid Detergent(N)     4\n",
      "Skirts                  3\n",
      "Tie Pin                 2\n",
      "Socks                   2\n",
      "Under Garments          2\n",
      "fruti                   1\n",
      "Crayons                 1\n",
      "Phone                   1\n",
      "Vanity                  1\n",
      "Trousers                1\n",
      "Name: product_name, dtype: int64\n",
      "\n",
      "Product_type\n",
      "Apparel        301\n",
      "Electronics    291\n",
      "Study/Books    234\n",
      "Liquid         163\n",
      "Solid          111\n",
      "Name: Product_type, dtype: int64\n",
      "\n",
      "Location\n",
      "sms    72\n",
      "sas    60\n",
      "gst    60\n",
      "art    56\n",
      "ijk    56\n",
      "ucc    55\n",
      "rta    54\n",
      "cvr    54\n",
      "lll    53\n",
      "abc    52\n",
      "ucv    51\n",
      "pqr    50\n",
      "xyz    50\n",
      "zzz    49\n",
      "lsj    49\n",
      "sss    48\n",
      "lmn    43\n",
      "zxc    43\n",
      "kmn    40\n",
      "nop    31\n",
      "cds    29\n",
      "nyc    27\n",
      "dem    17\n",
      "yyx     1\n",
      "Name: Location, dtype: int64\n",
      "\n",
      "Brand_of_the_product\n",
      "OUZX                49\n",
      "RRRR                46\n",
      "TMSO                45\n",
      "TIGRISSFFBTX        44\n",
      "IIII                43\n",
      "KLAS                42\n",
      "FFFF                42\n",
      "\\nCASPIANBTX        42\n",
      "PASM                41\n",
      "MEGATRON            41\n",
      "YYYY                40\n",
      "AVALON              40\n",
      "MNB                 39\n",
      "NBGY                38\n",
      "HGHY                37\n",
      "BEACHCOMBER         37\n",
      "GREATBEAR ST BTX    36\n",
      "EEEE                36\n",
      "SSSS                36\n",
      "BBBB                35\n",
      "XXXX                35\n",
      "DINOBTX             34\n",
      "OKLA                34\n",
      "CCCC                33\n",
      "DDDD                33\n",
      "QJKH                32\n",
      "PARKCITY            31\n",
      "AAAA                31\n",
      "ZZZZ                28\n",
      "Name: Brand_of_the_product, dtype: int64\n",
      "\n"
     ]
    }
   ],
   "source": [
    "# print the categorical columns\n",
    "for col in cat_col:\n",
    "    print(col)\n",
    "    print(df[col].value_counts())\n",
    "    print()"
   ]
  },
  {
   "cell_type": "markdown",
   "id": "47ce2bb5",
   "metadata": {},
   "source": [
    "# Exploratory Data Analysis"
   ]
  },
  {
   "cell_type": "code",
   "execution_count": 52,
   "id": "65903874",
   "metadata": {},
   "outputs": [
    {
     "data": {
      "text/plain": [
       "<AxesSubplot:xlabel='unit_price', ylabel='Density'>"
      ]
     },
     "execution_count": 52,
     "metadata": {},
     "output_type": "execute_result"
    },
    {
     "data": {
      "image/png": "[encoded data removed]",
      "text/plain": [
       "<Figure size 432x288 with 1 Axes>"
      ]
     },
     "metadata": {
      "needs_background": "light"
     },
     "output_type": "display_data"
    }
   ],
   "source": [
    "sns.distplot(df['unit_price'])"
   ]
  },
  {
   "cell_type": "code",
   "execution_count": 78,
   "id": "7fa11a40",
   "metadata": {},
   "outputs": [
    {
     "data": {
      "text/plain": [
       "<AxesSubplot:xlabel='discounted_price', ylabel='Density'>"
      ]
     },
     "execution_count": 78,
     "metadata": {},
     "output_type": "execute_result"
    },
    {
     "data": {
      "image/png": "[encoded data removed]",
      "text/plain": [
       "<Figure size 432x288 with 1 Axes>"
      ]
     },
     "metadata": {
      "needs_background": "light"
     },
     "output_type": "display_data"
    }
   ],
   "source": [
    "sns.distplot(df['discounted_price'])"
   ]
  },
  {
   "cell_type": "code",
   "execution_count": 54,
   "id": "3a2413aa",
   "metadata": {},
   "outputs": [
    {
     "data": {
      "text/plain": [
       "<AxesSubplot:xlabel='total_price', ylabel='Density'>"
      ]
     },
     "execution_count": 54,
     "metadata": {},
     "output_type": "execute_result"
    },
    {
     "data": {
      "image/png": "[encoded data removed]",
      "text/plain": [
       "<Figure size 432x288 with 1 Axes>"
      ]
     },
     "metadata": {
      "needs_background": "light"
     },
     "output_type": "display_data"
    }
   ],
   "source": [
    "sns.distplot(df['total_price'])"
   ]
  },
  {
   "cell_type": "code",
   "execution_count": 55,
   "id": "939ab938",
   "metadata": {},
   "outputs": [],
   "source": [
    "# WHAT IS THE OVERALL SALES TREND? \n",
    "\n",
    "# Getting month year from order_date\n",
    "df['month_year'] = df['sales _date'].apply(lambda x: x.strftime('%Y-%m'))"
   ]
  },
  {
   "cell_type": "code",
   "execution_count": 56,
   "id": "f5ed9c69",
   "metadata": {},
   "outputs": [],
   "source": [
    "# grouping month_year by discount\n",
    "df_temp = df.groupby('month_year').sum()['discounted_price'].reset_index()"
   ]
  },
  {
   "cell_type": "code",
   "execution_count": 57,
   "id": "e414983e",
   "metadata": {},
   "outputs": [
    {
     "data": {
      "image/png": "[encoded data removed]",
      "text/plain": [
       "<Figure size 1152x360 with 1 Axes>"
      ]
     },
     "metadata": {
      "needs_background": "light"
     },
     "output_type": "display_data"
    }
   ],
   "source": [
    "plt.figure(figsize=(16,5))\n",
    "plt.plot(df_temp['month_year'], df_temp['discounted_price'], color='#b80045')\n",
    "plt.xticks(rotation='vertical', size=8)\n",
    "plt.show()"
   ]
  },
  {
   "cell_type": "code",
   "execution_count": 58,
   "id": "d60d8b2f",
   "metadata": {},
   "outputs": [],
   "source": [
    "# grouping month_year by total price\n",
    "df_temp = df.groupby('month_year').sum()['total_price'].reset_index()"
   ]
  },
  {
   "cell_type": "code",
   "execution_count": 59,
   "id": "b39b067e",
   "metadata": {},
   "outputs": [
    {
     "data": {
      "image/png": "[encoded data removed]",
      "text/plain": [
       "<Figure size 1152x360 with 1 Axes>"
      ]
     },
     "metadata": {
      "needs_background": "light"
     },
     "output_type": "display_data"
    }
   ],
   "source": [
    "plt.figure(figsize=(16,5))\n",
    "plt.plot(df_temp['month_year'], df_temp['total_price'], color='#13fc03')\n",
    "plt.xticks(rotation='vertical', size=8)\n",
    "plt.show()"
   ]
  },
  {
   "cell_type": "code",
   "execution_count": 60,
   "id": "eb8414d7",
   "metadata": {},
   "outputs": [],
   "source": [
    "# grouping month_year by sales\n",
    "df_temp = df.groupby('month_year').sum()['unit_sale'].reset_index()"
   ]
  },
  {
   "cell_type": "code",
   "execution_count": 61,
   "id": "1bf202ea",
   "metadata": {},
   "outputs": [
    {
     "data": {
      "image/png": "[encoded data removed]",
      "text/plain": [
       "<Figure size 1152x360 with 1 Axes>"
      ]
     },
     "metadata": {
      "needs_background": "light"
     },
     "output_type": "display_data"
    }
   ],
   "source": [
    "plt.figure(figsize=(16,5))\n",
    "plt.plot(df_temp['month_year'], df_temp['unit_sale'], color='#030bfc')\n",
    "plt.xticks(rotation='vertical', size=8)\n",
    "plt.show()"
   ]
  },
  {
   "cell_type": "code",
   "execution_count": 62,
   "id": "26fa5406",
   "metadata": {},
   "outputs": [
    {
     "data": {
      "text/plain": [
       "[Text(0, 0, 'fruti'),\n",
       " Text(1, 0, 'Sanitiser'),\n",
       " Text(2, 0, 'Dish Washer'),\n",
       " Text(3, 0, 'Handwash'),\n",
       " Text(4, 0, 'Handwash(F)'),\n",
       " Text(5, 0, 'Liquid Detergent'),\n",
       " Text(6, 0, 'Soap Bar'),\n",
       " Text(7, 0, 'Tooth Brush'),\n",
       " Text(8, 0, 'Mug'),\n",
       " Text(9, 0, 'Bucket'),\n",
       " Text(10, 0, 'Handkerchief'),\n",
       " Text(11, 0, 'Tie'),\n",
       " Text(12, 0, 'Belt(L)'),\n",
       " Text(13, 0, 'Shoes'),\n",
       " Text(14, 0, 'Cap'),\n",
       " Text(15, 0, 'Belt'),\n",
       " Text(16, 0, 'Wallets'),\n",
       " Text(17, 0, 'Fruti'),\n",
       " Text(18, 0, 'Liquid Detergent(N)'),\n",
       " Text(19, 0, 'Tie Pin'),\n",
       " Text(20, 0, 'Trousers'),\n",
       " Text(21, 0, 'Socks'),\n",
       " Text(22, 0, 'Capacitor'),\n",
       " Text(23, 0, 'Torch'),\n",
       " Text(24, 0, 'LED'),\n",
       " Text(25, 0, 'Speaker'),\n",
       " Text(26, 0, 'Emer. Light'),\n",
       " Text(27, 0, 'Smart Phone'),\n",
       " Text(28, 0, 'Study Lamp'),\n",
       " Text(29, 0, 'Stablizer'),\n",
       " Text(30, 0, 'Cu-Wire'),\n",
       " Text(31, 0, 'Scrap Book'),\n",
       " Text(32, 0, 'Pencil'),\n",
       " Text(33, 0, 'Crayons'),\n",
       " Text(34, 0, 'Pen'),\n",
       " Text(35, 0, 'A4 Paper'),\n",
       " Text(36, 0, 'Socket'),\n",
       " Text(37, 0, 'Tube Light'),\n",
       " Text(38, 0, 'Motor'),\n",
       " Text(39, 0, 'Diary'),\n",
       " Text(40, 0, 'Spectrum'),\n",
       " Text(41, 0, 'Atlas'),\n",
       " Text(42, 0, 'Globe'),\n",
       " Text(43, 0, 'Laxmikanth'),\n",
       " Text(44, 0, 'Mop'),\n",
       " Text(45, 0, 'Lofa'),\n",
       " Text(46, 0, 'Antiseptic'),\n",
       " Text(47, 0, 'Toilet Cleanser'),\n",
       " Text(48, 0, 'Cough Syrup'),\n",
       " Text(49, 0, 'Phenyl'),\n",
       " Text(50, 0, 'Laptop'),\n",
       " Text(51, 0, 'Suitcase'),\n",
       " Text(52, 0, 'Vests'),\n",
       " Text(53, 0, 'Phone'),\n",
       " Text(54, 0, 'Under Garments'),\n",
       " Text(55, 0, 'Skirts'),\n",
       " Text(56, 0, 'Vanity')]"
      ]
     },
     "execution_count": 62,
     "metadata": {},
     "output_type": "execute_result"
    },
    {
     "data": {
      "image/png": "[encoded data removed]",
      "text/plain": [
       "<Figure size 2160x1080 with 1 Axes>"
      ]
     },
     "metadata": {
      "needs_background": "light"
     },
     "output_type": "display_data"
    }
   ],
   "source": [
    "plt.figure(figsize=(30,15))\n",
    "l = list(df['product_name'].unique())\n",
    "chart = sns.countplot(df[\"product_name\"])\n",
    "chart.set_xticklabels(chart.get_xticklabels(),rotation=90)"
   ]
  },
  {
   "cell_type": "code",
   "execution_count": 63,
   "id": "1a864a87",
   "metadata": {},
   "outputs": [
    {
     "data": {
      "text/html": [
       "<div>\n",
       "<style scoped>\n",
       "    .dataframe tbody tr th:only-of-type {\n",
       "        vertical-align: middle;\n",
       "    }\n",
       "\n",
       "    .dataframe tbody tr th {\n",
       "        vertical-align: top;\n",
       "    }\n",
       "\n",
       "    .dataframe thead th {\n",
       "        text-align: right;\n",
       "    }\n",
       "</style>\n",
       "<table border=\"1\" class=\"dataframe\">\n",
       "  <thead>\n",
       "    <tr style=\"text-align: right;\">\n",
       "      <th></th>\n",
       "      <th>unit_sale</th>\n",
       "    </tr>\n",
       "    <tr>\n",
       "      <th>product_name</th>\n",
       "      <th></th>\n",
       "    </tr>\n",
       "  </thead>\n",
       "  <tbody>\n",
       "    <tr>\n",
       "      <th>Tie</th>\n",
       "      <td>11973</td>\n",
       "    </tr>\n",
       "    <tr>\n",
       "      <th>Belt(L)</th>\n",
       "      <td>10689</td>\n",
       "    </tr>\n",
       "    <tr>\n",
       "      <th>Torch</th>\n",
       "      <td>8008</td>\n",
       "    </tr>\n",
       "    <tr>\n",
       "      <th>Atlas</th>\n",
       "      <td>7688</td>\n",
       "    </tr>\n",
       "    <tr>\n",
       "      <th>Wallets</th>\n",
       "      <td>7568</td>\n",
       "    </tr>\n",
       "    <tr>\n",
       "      <th>Belt</th>\n",
       "      <td>7540</td>\n",
       "    </tr>\n",
       "    <tr>\n",
       "      <th>Diary</th>\n",
       "      <td>7012</td>\n",
       "    </tr>\n",
       "    <tr>\n",
       "      <th>Scrap Book</th>\n",
       "      <td>6661</td>\n",
       "    </tr>\n",
       "    <tr>\n",
       "      <th>Laxmikanth</th>\n",
       "      <td>5997</td>\n",
       "    </tr>\n",
       "    <tr>\n",
       "      <th>Capacitor</th>\n",
       "      <td>5623</td>\n",
       "    </tr>\n",
       "  </tbody>\n",
       "</table>\n",
       "</div>"
      ],
      "text/plain": [
       "              unit_sale\n",
       "product_name           \n",
       "Tie               11973\n",
       "Belt(L)           10689\n",
       "Torch              8008\n",
       "Atlas              7688\n",
       "Wallets            7568\n",
       "Belt               7540\n",
       "Diary              7012\n",
       "Scrap Book         6661\n",
       "Laxmikanth         5997\n",
       "Capacitor          5623"
      ]
     },
     "execution_count": 63,
     "metadata": {},
     "output_type": "execute_result"
    }
   ],
   "source": [
    "# Top 10 Products by sales\n",
    "\n",
    "# Grouping Product by sales\n",
    "prod_sales = pd.DataFrame(df.groupby('product_name').sum()['unit_sale'])\n",
    "\n",
    "# Sorting the dataframe in descending order\n",
    "prod_sales.sort_values(by=['unit_sale'],inplace=True,ascending=False)\n",
    "\n",
    "# Top 10 products by sales\n",
    "prod_sales[:10]"
   ]
  },
  {
   "cell_type": "code",
   "execution_count": 64,
   "id": "893b95c7",
   "metadata": {},
   "outputs": [
    {
     "data": {
      "text/html": [
       "<div>\n",
       "<style scoped>\n",
       "    .dataframe tbody tr th:only-of-type {\n",
       "        vertical-align: middle;\n",
       "    }\n",
       "\n",
       "    .dataframe tbody tr th {\n",
       "        vertical-align: top;\n",
       "    }\n",
       "\n",
       "    .dataframe thead th {\n",
       "        text-align: right;\n",
       "    }\n",
       "</style>\n",
       "<table border=\"1\" class=\"dataframe\">\n",
       "  <thead>\n",
       "    <tr style=\"text-align: right;\">\n",
       "      <th></th>\n",
       "      <th>unit_price</th>\n",
       "    </tr>\n",
       "    <tr>\n",
       "      <th>product_name</th>\n",
       "      <th></th>\n",
       "    </tr>\n",
       "  </thead>\n",
       "  <tbody>\n",
       "    <tr>\n",
       "      <th>Tie</th>\n",
       "      <td>236476</td>\n",
       "    </tr>\n",
       "    <tr>\n",
       "      <th>Belt(L)</th>\n",
       "      <td>193506</td>\n",
       "    </tr>\n",
       "    <tr>\n",
       "      <th>Wallets</th>\n",
       "      <td>166196</td>\n",
       "    </tr>\n",
       "    <tr>\n",
       "      <th>Torch</th>\n",
       "      <td>155480</td>\n",
       "    </tr>\n",
       "    <tr>\n",
       "      <th>Belt</th>\n",
       "      <td>153696</td>\n",
       "    </tr>\n",
       "    <tr>\n",
       "      <th>Diary</th>\n",
       "      <td>151207</td>\n",
       "    </tr>\n",
       "    <tr>\n",
       "      <th>Atlas</th>\n",
       "      <td>146191</td>\n",
       "    </tr>\n",
       "    <tr>\n",
       "      <th>Laxmikanth</th>\n",
       "      <td>121850</td>\n",
       "    </tr>\n",
       "    <tr>\n",
       "      <th>Scrap Book</th>\n",
       "      <td>116783</td>\n",
       "    </tr>\n",
       "    <tr>\n",
       "      <th>Capacitor</th>\n",
       "      <td>115836</td>\n",
       "    </tr>\n",
       "  </tbody>\n",
       "</table>\n",
       "</div>"
      ],
      "text/plain": [
       "              unit_price\n",
       "product_name            \n",
       "Tie               236476\n",
       "Belt(L)           193506\n",
       "Wallets           166196\n",
       "Torch             155480\n",
       "Belt              153696\n",
       "Diary             151207\n",
       "Atlas             146191\n",
       "Laxmikanth        121850\n",
       "Scrap Book        116783\n",
       "Capacitor         115836"
      ]
     },
     "execution_count": 64,
     "metadata": {},
     "output_type": "execute_result"
    }
   ],
   "source": [
    "# Top 10 Products by unit_price\n",
    "\n",
    "# Grouping Product by unit_price\n",
    "prod_sales = pd.DataFrame(df.groupby('product_name').sum()['unit_price'])\n",
    "\n",
    "# Sorting the dataframe in descending order\n",
    "prod_sales.sort_values(by=['unit_price'],inplace=True,ascending=False)\n",
    "\n",
    "# Top 10 products by unit_price\n",
    "prod_sales[:10]"
   ]
  },
  {
   "cell_type": "markdown",
   "id": "28b475c8",
   "metadata": {},
   "source": [
    "# Correlation Matrix"
   ]
  },
  {
   "cell_type": "code",
   "execution_count": 65,
   "id": "0d94e727",
   "metadata": {},
   "outputs": [
    {
     "data": {
      "text/plain": [
       "<AxesSubplot:>"
      ]
     },
     "execution_count": 65,
     "metadata": {},
     "output_type": "execute_result"
    },
    {
     "data": {
      "image/png": "[encoded data removed]",
      "text/plain": [
       "<Figure size 432x288 with 2 Axes>"
      ]
     },
     "metadata": {
      "needs_background": "light"
     },
     "output_type": "display_data"
    }
   ],
   "source": [
    "corr = df.corr()\n",
    "sns.heatmap(corr,annot=True,cmap='coolwarm')"
   ]
  },
  {
   "cell_type": "code",
   "execution_count": 66,
   "id": "ec7a678f",
   "metadata": {},
   "outputs": [],
   "source": [
    "#x = df.drop(columns=['item_id ','Gender','Location'])"
   ]
  },
  {
   "cell_type": "markdown",
   "id": "f082ecd0",
   "metadata": {},
   "source": [
    "# Label Encoding"
   ]
  },
  {
   "cell_type": "code",
   "execution_count": 67,
   "id": "e369c28c",
   "metadata": {},
   "outputs": [
    {
     "data": {
      "text/plain": [
       "\"from sklearn.preprocessing import LabelEncoder\\nle = LabelEncoder()\\ncat_col = ['product_name', 'Product_type', 'Location', 'Brand_of_the_product']\\nfor col in cat_col:\\n    df[col] = le.fit_transform(df[col])\""
      ]
     },
     "execution_count": 67,
     "metadata": {},
     "output_type": "execute_result"
    }
   ],
   "source": [
    "\"\"\"from sklearn.preprocessing import LabelEncoder\n",
    "le = LabelEncoder()\n",
    "cat_col = ['product_name', 'Product_type', 'Location', 'Brand_of_the_product']\n",
    "for col in cat_col:\n",
    "    df[col] = le.fit_transform(df[col])\"\"\""
   ]
  },
  {
   "cell_type": "code",
   "execution_count": 68,
   "id": "0c576b36",
   "metadata": {},
   "outputs": [],
   "source": [
    "df = pd.get_dummies(df,columns=['product_name', 'Product_type','Brand_of_the_product'])"
   ]
  },
  {
   "cell_type": "code",
   "execution_count": 69,
   "id": "b2b7ae99",
   "metadata": {},
   "outputs": [
    {
     "data": {
      "text/html": [
       "<div>\n",
       "<style scoped>\n",
       "    .dataframe tbody tr th:only-of-type {\n",
       "        vertical-align: middle;\n",
       "    }\n",
       "\n",
       "    .dataframe tbody tr th {\n",
       "        vertical-align: top;\n",
       "    }\n",
       "\n",
       "    .dataframe thead th {\n",
       "        text-align: right;\n",
       "    }\n",
       "</style>\n",
       "<table border=\"1\" class=\"dataframe\">\n",
       "  <thead>\n",
       "    <tr style=\"text-align: right;\">\n",
       "      <th></th>\n",
       "      <th>item_id</th>\n",
       "      <th>sales _date</th>\n",
       "      <th>unit_price</th>\n",
       "      <th>unit_sale</th>\n",
       "      <th>discounted_price</th>\n",
       "      <th>total_price</th>\n",
       "      <th>Gender</th>\n",
       "      <th>Location</th>\n",
       "      <th>month_year</th>\n",
       "      <th>product_name_A4 Paper</th>\n",
       "      <th>...</th>\n",
       "      <th>Brand_of_the_product_PARKCITY</th>\n",
       "      <th>Brand_of_the_product_PASM</th>\n",
       "      <th>Brand_of_the_product_QJKH</th>\n",
       "      <th>Brand_of_the_product_RRRR</th>\n",
       "      <th>Brand_of_the_product_SSSS</th>\n",
       "      <th>Brand_of_the_product_TIGRISSFFBTX</th>\n",
       "      <th>Brand_of_the_product_TMSO</th>\n",
       "      <th>Brand_of_the_product_XXXX</th>\n",
       "      <th>Brand_of_the_product_YYYY</th>\n",
       "      <th>Brand_of_the_product_ZZZZ</th>\n",
       "    </tr>\n",
       "  </thead>\n",
       "  <tbody>\n",
       "    <tr>\n",
       "      <th>0</th>\n",
       "      <td>AU001</td>\n",
       "      <td>2021-12-09</td>\n",
       "      <td>30</td>\n",
       "      <td>10</td>\n",
       "      <td>250</td>\n",
       "      <td>300</td>\n",
       "      <td>1</td>\n",
       "      <td>xyz</td>\n",
       "      <td>2021-12</td>\n",
       "      <td>0</td>\n",
       "      <td>...</td>\n",
       "      <td>0</td>\n",
       "      <td>0</td>\n",
       "      <td>0</td>\n",
       "      <td>0</td>\n",
       "      <td>0</td>\n",
       "      <td>0</td>\n",
       "      <td>0</td>\n",
       "      <td>0</td>\n",
       "      <td>1</td>\n",
       "      <td>0</td>\n",
       "    </tr>\n",
       "    <tr>\n",
       "      <th>1</th>\n",
       "      <td>AU002</td>\n",
       "      <td>2021-12-09</td>\n",
       "      <td>120</td>\n",
       "      <td>5</td>\n",
       "      <td>220</td>\n",
       "      <td>600</td>\n",
       "      <td>0</td>\n",
       "      <td>yyx</td>\n",
       "      <td>2021-12</td>\n",
       "      <td>0</td>\n",
       "      <td>...</td>\n",
       "      <td>0</td>\n",
       "      <td>0</td>\n",
       "      <td>0</td>\n",
       "      <td>0</td>\n",
       "      <td>0</td>\n",
       "      <td>0</td>\n",
       "      <td>0</td>\n",
       "      <td>0</td>\n",
       "      <td>0</td>\n",
       "      <td>1</td>\n",
       "    </tr>\n",
       "    <tr>\n",
       "      <th>2</th>\n",
       "      <td>AU003</td>\n",
       "      <td>2021-07-05</td>\n",
       "      <td>3545</td>\n",
       "      <td>246</td>\n",
       "      <td>334</td>\n",
       "      <td>872070</td>\n",
       "      <td>0</td>\n",
       "      <td>pqr</td>\n",
       "      <td>2021-07</td>\n",
       "      <td>0</td>\n",
       "      <td>...</td>\n",
       "      <td>0</td>\n",
       "      <td>0</td>\n",
       "      <td>0</td>\n",
       "      <td>0</td>\n",
       "      <td>1</td>\n",
       "      <td>0</td>\n",
       "      <td>0</td>\n",
       "      <td>0</td>\n",
       "      <td>0</td>\n",
       "      <td>0</td>\n",
       "    </tr>\n",
       "    <tr>\n",
       "      <th>3</th>\n",
       "      <td>AU004</td>\n",
       "      <td>2021-05-03</td>\n",
       "      <td>1102</td>\n",
       "      <td>140</td>\n",
       "      <td>466</td>\n",
       "      <td>154280</td>\n",
       "      <td>1</td>\n",
       "      <td>rta</td>\n",
       "      <td>2021-05</td>\n",
       "      <td>0</td>\n",
       "      <td>...</td>\n",
       "      <td>0</td>\n",
       "      <td>0</td>\n",
       "      <td>0</td>\n",
       "      <td>0</td>\n",
       "      <td>0</td>\n",
       "      <td>0</td>\n",
       "      <td>0</td>\n",
       "      <td>0</td>\n",
       "      <td>0</td>\n",
       "      <td>0</td>\n",
       "    </tr>\n",
       "    <tr>\n",
       "      <th>4</th>\n",
       "      <td>AU005</td>\n",
       "      <td>2021-09-16</td>\n",
       "      <td>1464</td>\n",
       "      <td>300</td>\n",
       "      <td>349</td>\n",
       "      <td>439200</td>\n",
       "      <td>0</td>\n",
       "      <td>kmn</td>\n",
       "      <td>2021-09</td>\n",
       "      <td>0</td>\n",
       "      <td>...</td>\n",
       "      <td>0</td>\n",
       "      <td>0</td>\n",
       "      <td>0</td>\n",
       "      <td>0</td>\n",
       "      <td>0</td>\n",
       "      <td>0</td>\n",
       "      <td>0</td>\n",
       "      <td>0</td>\n",
       "      <td>0</td>\n",
       "      <td>0</td>\n",
       "    </tr>\n",
       "  </tbody>\n",
       "</table>\n",
       "<p>5 rows × 100 columns</p>\n",
       "</div>"
      ],
      "text/plain": [
       "  item_id  sales _date  unit_price  unit_sale  discounted_price  total_price  \\\n",
       "0    AU001  2021-12-09          30         10               250          300   \n",
       "1    AU002  2021-12-09         120          5               220          600   \n",
       "2    AU003  2021-07-05        3545        246               334       872070   \n",
       "3    AU004  2021-05-03        1102        140               466       154280   \n",
       "4    AU005  2021-09-16        1464        300               349       439200   \n",
       "\n",
       "   Gender Location month_year  product_name_A4 Paper  ...  \\\n",
       "0       1      xyz    2021-12                      0  ...   \n",
       "1       0      yyx    2021-12                      0  ...   \n",
       "2       0      pqr    2021-07                      0  ...   \n",
       "3       1      rta    2021-05                      0  ...   \n",
       "4       0      kmn    2021-09                      0  ...   \n",
       "\n",
       "   Brand_of_the_product_PARKCITY  Brand_of_the_product_PASM  \\\n",
       "0                              0                          0   \n",
       "1                              0                          0   \n",
       "2                              0                          0   \n",
       "3                              0                          0   \n",
       "4                              0                          0   \n",
       "\n",
       "   Brand_of_the_product_QJKH  Brand_of_the_product_RRRR  \\\n",
       "0                          0                          0   \n",
       "1                          0                          0   \n",
       "2                          0                          0   \n",
       "3                          0                          0   \n",
       "4                          0                          0   \n",
       "\n",
       "   Brand_of_the_product_SSSS  Brand_of_the_product_TIGRISSFFBTX  \\\n",
       "0                          0                                  0   \n",
       "1                          0                                  0   \n",
       "2                          1                                  0   \n",
       "3                          0                                  0   \n",
       "4                          0                                  0   \n",
       "\n",
       "   Brand_of_the_product_TMSO  Brand_of_the_product_XXXX  \\\n",
       "0                          0                          0   \n",
       "1                          0                          0   \n",
       "2                          0                          0   \n",
       "3                          0                          0   \n",
       "4                          0                          0   \n",
       "\n",
       "   Brand_of_the_product_YYYY  Brand_of_the_product_ZZZZ  \n",
       "0                          1                          0  \n",
       "1                          0                          1  \n",
       "2                          0                          0  \n",
       "3                          0                          0  \n",
       "4                          0                          0  \n",
       "\n",
       "[5 rows x 100 columns]"
      ]
     },
     "execution_count": 69,
     "metadata": {},
     "output_type": "execute_result"
    }
   ],
   "source": [
    "df.head()"
   ]
  },
  {
   "cell_type": "markdown",
   "id": "1054cec0",
   "metadata": {},
   "source": [
    "# Input Split"
   ]
  },
  {
   "cell_type": "code",
   "execution_count": 70,
   "id": "8fce3b2b",
   "metadata": {},
   "outputs": [],
   "source": [
    "X = df.drop(columns=['item_id ','Gender','Location'])\n",
    "y = df['unit_sale']"
   ]
  },
  {
   "cell_type": "code",
   "execution_count": 71,
   "id": "22bb93b7",
   "metadata": {},
   "outputs": [
    {
     "data": {
      "text/html": [
       "<div>\n",
       "<style scoped>\n",
       "    .dataframe tbody tr th:only-of-type {\n",
       "        vertical-align: middle;\n",
       "    }\n",
       "\n",
       "    .dataframe tbody tr th {\n",
       "        vertical-align: top;\n",
       "    }\n",
       "\n",
       "    .dataframe thead th {\n",
       "        text-align: right;\n",
       "    }\n",
       "</style>\n",
       "<table border=\"1\" class=\"dataframe\">\n",
       "  <thead>\n",
       "    <tr style=\"text-align: right;\">\n",
       "      <th></th>\n",
       "      <th>sales _date</th>\n",
       "      <th>unit_price</th>\n",
       "      <th>unit_sale</th>\n",
       "      <th>discounted_price</th>\n",
       "      <th>total_price</th>\n",
       "      <th>month_year</th>\n",
       "      <th>product_name_A4 Paper</th>\n",
       "      <th>product_name_Antiseptic</th>\n",
       "      <th>product_name_Atlas</th>\n",
       "      <th>product_name_Belt</th>\n",
       "      <th>...</th>\n",
       "      <th>Brand_of_the_product_PARKCITY</th>\n",
       "      <th>Brand_of_the_product_PASM</th>\n",
       "      <th>Brand_of_the_product_QJKH</th>\n",
       "      <th>Brand_of_the_product_RRRR</th>\n",
       "      <th>Brand_of_the_product_SSSS</th>\n",
       "      <th>Brand_of_the_product_TIGRISSFFBTX</th>\n",
       "      <th>Brand_of_the_product_TMSO</th>\n",
       "      <th>Brand_of_the_product_XXXX</th>\n",
       "      <th>Brand_of_the_product_YYYY</th>\n",
       "      <th>Brand_of_the_product_ZZZZ</th>\n",
       "    </tr>\n",
       "  </thead>\n",
       "  <tbody>\n",
       "    <tr>\n",
       "      <th>0</th>\n",
       "      <td>2021-12-09</td>\n",
       "      <td>30</td>\n",
       "      <td>10</td>\n",
       "      <td>250</td>\n",
       "      <td>300</td>\n",
       "      <td>2021-12</td>\n",
       "      <td>0</td>\n",
       "      <td>0</td>\n",
       "      <td>0</td>\n",
       "      <td>0</td>\n",
       "      <td>...</td>\n",
       "      <td>0</td>\n",
       "      <td>0</td>\n",
       "      <td>0</td>\n",
       "      <td>0</td>\n",
       "      <td>0</td>\n",
       "      <td>0</td>\n",
       "      <td>0</td>\n",
       "      <td>0</td>\n",
       "      <td>1</td>\n",
       "      <td>0</td>\n",
       "    </tr>\n",
       "    <tr>\n",
       "      <th>1</th>\n",
       "      <td>2021-12-09</td>\n",
       "      <td>120</td>\n",
       "      <td>5</td>\n",
       "      <td>220</td>\n",
       "      <td>600</td>\n",
       "      <td>2021-12</td>\n",
       "      <td>0</td>\n",
       "      <td>0</td>\n",
       "      <td>0</td>\n",
       "      <td>0</td>\n",
       "      <td>...</td>\n",
       "      <td>0</td>\n",
       "      <td>0</td>\n",
       "      <td>0</td>\n",
       "      <td>0</td>\n",
       "      <td>0</td>\n",
       "      <td>0</td>\n",
       "      <td>0</td>\n",
       "      <td>0</td>\n",
       "      <td>0</td>\n",
       "      <td>1</td>\n",
       "    </tr>\n",
       "    <tr>\n",
       "      <th>2</th>\n",
       "      <td>2021-07-05</td>\n",
       "      <td>3545</td>\n",
       "      <td>246</td>\n",
       "      <td>334</td>\n",
       "      <td>872070</td>\n",
       "      <td>2021-07</td>\n",
       "      <td>0</td>\n",
       "      <td>0</td>\n",
       "      <td>0</td>\n",
       "      <td>0</td>\n",
       "      <td>...</td>\n",
       "      <td>0</td>\n",
       "      <td>0</td>\n",
       "      <td>0</td>\n",
       "      <td>0</td>\n",
       "      <td>1</td>\n",
       "      <td>0</td>\n",
       "      <td>0</td>\n",
       "      <td>0</td>\n",
       "      <td>0</td>\n",
       "      <td>0</td>\n",
       "    </tr>\n",
       "    <tr>\n",
       "      <th>3</th>\n",
       "      <td>2021-05-03</td>\n",
       "      <td>1102</td>\n",
       "      <td>140</td>\n",
       "      <td>466</td>\n",
       "      <td>154280</td>\n",
       "      <td>2021-05</td>\n",
       "      <td>0</td>\n",
       "      <td>0</td>\n",
       "      <td>0</td>\n",
       "      <td>0</td>\n",
       "      <td>...</td>\n",
       "      <td>0</td>\n",
       "      <td>0</td>\n",
       "      <td>0</td>\n",
       "      <td>0</td>\n",
       "      <td>0</td>\n",
       "      <td>0</td>\n",
       "      <td>0</td>\n",
       "      <td>0</td>\n",
       "      <td>0</td>\n",
       "      <td>0</td>\n",
       "    </tr>\n",
       "    <tr>\n",
       "      <th>4</th>\n",
       "      <td>2021-09-16</td>\n",
       "      <td>1464</td>\n",
       "      <td>300</td>\n",
       "      <td>349</td>\n",
       "      <td>439200</td>\n",
       "      <td>2021-09</td>\n",
       "      <td>0</td>\n",
       "      <td>0</td>\n",
       "      <td>0</td>\n",
       "      <td>0</td>\n",
       "      <td>...</td>\n",
       "      <td>0</td>\n",
       "      <td>0</td>\n",
       "      <td>0</td>\n",
       "      <td>0</td>\n",
       "      <td>0</td>\n",
       "      <td>0</td>\n",
       "      <td>0</td>\n",
       "      <td>0</td>\n",
       "      <td>0</td>\n",
       "      <td>0</td>\n",
       "    </tr>\n",
       "  </tbody>\n",
       "</table>\n",
       "<p>5 rows × 97 columns</p>\n",
       "</div>"
      ],
      "text/plain": [
       "  sales _date  unit_price  unit_sale  discounted_price  total_price  \\\n",
       "0  2021-12-09          30         10               250          300   \n",
       "1  2021-12-09         120          5               220          600   \n",
       "2  2021-07-05        3545        246               334       872070   \n",
       "3  2021-05-03        1102        140               466       154280   \n",
       "4  2021-09-16        1464        300               349       439200   \n",
       "\n",
       "  month_year  product_name_A4 Paper  product_name_Antiseptic  \\\n",
       "0    2021-12                      0                        0   \n",
       "1    2021-12                      0                        0   \n",
       "2    2021-07                      0                        0   \n",
       "3    2021-05                      0                        0   \n",
       "4    2021-09                      0                        0   \n",
       "\n",
       "   product_name_Atlas  product_name_Belt  ...  Brand_of_the_product_PARKCITY  \\\n",
       "0                   0                  0  ...                              0   \n",
       "1                   0                  0  ...                              0   \n",
       "2                   0                  0  ...                              0   \n",
       "3                   0                  0  ...                              0   \n",
       "4                   0                  0  ...                              0   \n",
       "\n",
       "   Brand_of_the_product_PASM  Brand_of_the_product_QJKH  \\\n",
       "0                          0                          0   \n",
       "1                          0                          0   \n",
       "2                          0                          0   \n",
       "3                          0                          0   \n",
       "4                          0                          0   \n",
       "\n",
       "   Brand_of_the_product_RRRR  Brand_of_the_product_SSSS  \\\n",
       "0                          0                          0   \n",
       "1                          0                          0   \n",
       "2                          0                          1   \n",
       "3                          0                          0   \n",
       "4                          0                          0   \n",
       "\n",
       "   Brand_of_the_product_TIGRISSFFBTX  Brand_of_the_product_TMSO  \\\n",
       "0                                  0                          0   \n",
       "1                                  0                          0   \n",
       "2                                  0                          0   \n",
       "3                                  0                          0   \n",
       "4                                  0                          0   \n",
       "\n",
       "   Brand_of_the_product_XXXX  Brand_of_the_product_YYYY  \\\n",
       "0                          0                          1   \n",
       "1                          0                          0   \n",
       "2                          0                          0   \n",
       "3                          0                          0   \n",
       "4                          0                          0   \n",
       "\n",
       "   Brand_of_the_product_ZZZZ  \n",
       "0                          0  \n",
       "1                          1  \n",
       "2                          0  \n",
       "3                          0  \n",
       "4                          0  \n",
       "\n",
       "[5 rows x 97 columns]"
      ]
     },
     "execution_count": 71,
     "metadata": {},
     "output_type": "execute_result"
    }
   ],
   "source": [
    "X.head()"
   ]
  },
  {
   "cell_type": "code",
   "execution_count": null,
   "id": "604ffd48",
   "metadata": {},
   "outputs": [],
   "source": []
  },
  {
   "cell_type": "markdown",
   "id": "5e6e57fa",
   "metadata": {},
   "source": [
    "# Model Training and Testing"
   ]
  },
  {
   "cell_type": "code",
   "execution_count": 74,
   "id": "ab6b7be3",
   "metadata": {},
   "outputs": [
    {
     "name": "stdout",
     "output_type": "stream",
     "text": [
      "Shape of X_train: (880, 97)\n",
      "Shape of X_test: (220, 97)\n",
      "Shape of y_train: (880,)\n",
      "Shape of y_test: (220,)\n"
     ]
    }
   ],
   "source": [
    "from sklearn.model_selection import train_test_split\n",
    "X_train,X_test,y_train,y_test = train_test_split(X,y,test_size=0.2)\n",
    "print(\"Shape of X_train:\",X_train.shape)\n",
    "print(\"Shape of X_test:\",X_test.shape)\n",
    "print(\"Shape of y_train:\",y_train.shape)\n",
    "print(\"Shape of y_test:\",y_test.shape)"
   ]
  },
  {
   "cell_type": "markdown",
   "id": "0ca04376",
   "metadata": {},
   "source": [
    "# Linear Regression"
   ]
  },
  {
   "cell_type": "code",
   "execution_count": 75,
   "id": "49356e2a",
   "metadata": {},
   "outputs": [
    {
     "ename": "TypeError",
     "evalue": "invalid type promotion",
     "output_type": "error",
     "traceback": [
      "\u001b[1;31m---------------------------------------------------------------------------\u001b[0m",
      "\u001b[1;31mTypeError\u001b[0m                                 Traceback (most recent call last)",
      "\u001b[1;32m<ipython-input-75-9c5db5aff2d1>\u001b[0m in \u001b[0;36m<module>\u001b[1;34m\u001b[0m\n\u001b[0;32m      1\u001b[0m \u001b[1;32mfrom\u001b[0m \u001b[0msklearn\u001b[0m\u001b[1;33m.\u001b[0m\u001b[0mlinear_model\u001b[0m \u001b[1;32mimport\u001b[0m \u001b[0mLinearRegression\u001b[0m\u001b[1;33m\u001b[0m\u001b[1;33m\u001b[0m\u001b[0m\n\u001b[0;32m      2\u001b[0m \u001b[0mmodel\u001b[0m \u001b[1;33m=\u001b[0m \u001b[0mLinearRegression\u001b[0m\u001b[1;33m(\u001b[0m\u001b[1;33m)\u001b[0m\u001b[1;33m\u001b[0m\u001b[1;33m\u001b[0m\u001b[0m\n\u001b[1;32m----> 3\u001b[1;33m \u001b[0mmodel\u001b[0m\u001b[1;33m.\u001b[0m\u001b[0mfit\u001b[0m\u001b[1;33m(\u001b[0m\u001b[0mX_train\u001b[0m\u001b[1;33m,\u001b[0m\u001b[0my_train\u001b[0m\u001b[1;33m)\u001b[0m\u001b[1;33m\u001b[0m\u001b[1;33m\u001b[0m\u001b[0m\n\u001b[0m",
      "\u001b[1;32m~\\anaconda3\\lib\\site-packages\\sklearn\\linear_model\\_base.py\u001b[0m in \u001b[0;36mfit\u001b[1;34m(self, X, y, sample_weight)\u001b[0m\n\u001b[0;32m    516\u001b[0m         \u001b[0maccept_sparse\u001b[0m \u001b[1;33m=\u001b[0m \u001b[1;32mFalse\u001b[0m \u001b[1;32mif\u001b[0m \u001b[0mself\u001b[0m\u001b[1;33m.\u001b[0m\u001b[0mpositive\u001b[0m \u001b[1;32melse\u001b[0m \u001b[1;33m[\u001b[0m\u001b[1;34m'csr'\u001b[0m\u001b[1;33m,\u001b[0m \u001b[1;34m'csc'\u001b[0m\u001b[1;33m,\u001b[0m \u001b[1;34m'coo'\u001b[0m\u001b[1;33m]\u001b[0m\u001b[1;33m\u001b[0m\u001b[1;33m\u001b[0m\u001b[0m\n\u001b[0;32m    517\u001b[0m \u001b[1;33m\u001b[0m\u001b[0m\n\u001b[1;32m--> 518\u001b[1;33m         X, y = self._validate_data(X, y, accept_sparse=accept_sparse,\n\u001b[0m\u001b[0;32m    519\u001b[0m                                    y_numeric=True, multi_output=True)\n\u001b[0;32m    520\u001b[0m \u001b[1;33m\u001b[0m\u001b[0m\n",
      "\u001b[1;32m~\\anaconda3\\lib\\site-packages\\sklearn\\base.py\u001b[0m in \u001b[0;36m_validate_data\u001b[1;34m(self, X, y, reset, validate_separately, **check_params)\u001b[0m\n\u001b[0;32m    431\u001b[0m                 \u001b[0my\u001b[0m \u001b[1;33m=\u001b[0m \u001b[0mcheck_array\u001b[0m\u001b[1;33m(\u001b[0m\u001b[0my\u001b[0m\u001b[1;33m,\u001b[0m \u001b[1;33m**\u001b[0m\u001b[0mcheck_y_params\u001b[0m\u001b[1;33m)\u001b[0m\u001b[1;33m\u001b[0m\u001b[1;33m\u001b[0m\u001b[0m\n\u001b[0;32m    432\u001b[0m             \u001b[1;32melse\u001b[0m\u001b[1;33m:\u001b[0m\u001b[1;33m\u001b[0m\u001b[1;33m\u001b[0m\u001b[0m\n\u001b[1;32m--> 433\u001b[1;33m                 \u001b[0mX\u001b[0m\u001b[1;33m,\u001b[0m \u001b[0my\u001b[0m \u001b[1;33m=\u001b[0m \u001b[0mcheck_X_y\u001b[0m\u001b[1;33m(\u001b[0m\u001b[0mX\u001b[0m\u001b[1;33m,\u001b[0m \u001b[0my\u001b[0m\u001b[1;33m,\u001b[0m \u001b[1;33m**\u001b[0m\u001b[0mcheck_params\u001b[0m\u001b[1;33m)\u001b[0m\u001b[1;33m\u001b[0m\u001b[1;33m\u001b[0m\u001b[0m\n\u001b[0m\u001b[0;32m    434\u001b[0m             \u001b[0mout\u001b[0m \u001b[1;33m=\u001b[0m \u001b[0mX\u001b[0m\u001b[1;33m,\u001b[0m \u001b[0my\u001b[0m\u001b[1;33m\u001b[0m\u001b[1;33m\u001b[0m\u001b[0m\n\u001b[0;32m    435\u001b[0m \u001b[1;33m\u001b[0m\u001b[0m\n",
      "\u001b[1;32m~\\anaconda3\\lib\\site-packages\\sklearn\\utils\\validation.py\u001b[0m in \u001b[0;36minner_f\u001b[1;34m(*args, **kwargs)\u001b[0m\n\u001b[0;32m     61\u001b[0m             \u001b[0mextra_args\u001b[0m \u001b[1;33m=\u001b[0m \u001b[0mlen\u001b[0m\u001b[1;33m(\u001b[0m\u001b[0margs\u001b[0m\u001b[1;33m)\u001b[0m \u001b[1;33m-\u001b[0m \u001b[0mlen\u001b[0m\u001b[1;33m(\u001b[0m\u001b[0mall_args\u001b[0m\u001b[1;33m)\u001b[0m\u001b[1;33m\u001b[0m\u001b[1;33m\u001b[0m\u001b[0m\n\u001b[0;32m     62\u001b[0m             \u001b[1;32mif\u001b[0m \u001b[0mextra_args\u001b[0m \u001b[1;33m<=\u001b[0m \u001b[1;36m0\u001b[0m\u001b[1;33m:\u001b[0m\u001b[1;33m\u001b[0m\u001b[1;33m\u001b[0m\u001b[0m\n\u001b[1;32m---> 63\u001b[1;33m                 \u001b[1;32mreturn\u001b[0m \u001b[0mf\u001b[0m\u001b[1;33m(\u001b[0m\u001b[1;33m*\u001b[0m\u001b[0margs\u001b[0m\u001b[1;33m,\u001b[0m \u001b[1;33m**\u001b[0m\u001b[0mkwargs\u001b[0m\u001b[1;33m)\u001b[0m\u001b[1;33m\u001b[0m\u001b[1;33m\u001b[0m\u001b[0m\n\u001b[0m\u001b[0;32m     64\u001b[0m \u001b[1;33m\u001b[0m\u001b[0m\n\u001b[0;32m     65\u001b[0m             \u001b[1;31m# extra_args > 0\u001b[0m\u001b[1;33m\u001b[0m\u001b[1;33m\u001b[0m\u001b[1;33m\u001b[0m\u001b[0m\n",
      "\u001b[1;32m~\\anaconda3\\lib\\site-packages\\sklearn\\utils\\validation.py\u001b[0m in \u001b[0;36mcheck_X_y\u001b[1;34m(X, y, accept_sparse, accept_large_sparse, dtype, order, copy, force_all_finite, ensure_2d, allow_nd, multi_output, ensure_min_samples, ensure_min_features, y_numeric, estimator)\u001b[0m\n\u001b[0;32m    812\u001b[0m         \u001b[1;32mraise\u001b[0m \u001b[0mValueError\u001b[0m\u001b[1;33m(\u001b[0m\u001b[1;34m\"y cannot be None\"\u001b[0m\u001b[1;33m)\u001b[0m\u001b[1;33m\u001b[0m\u001b[1;33m\u001b[0m\u001b[0m\n\u001b[0;32m    813\u001b[0m \u001b[1;33m\u001b[0m\u001b[0m\n\u001b[1;32m--> 814\u001b[1;33m     X = check_array(X, accept_sparse=accept_sparse,\n\u001b[0m\u001b[0;32m    815\u001b[0m                     \u001b[0maccept_large_sparse\u001b[0m\u001b[1;33m=\u001b[0m\u001b[0maccept_large_sparse\u001b[0m\u001b[1;33m,\u001b[0m\u001b[1;33m\u001b[0m\u001b[1;33m\u001b[0m\u001b[0m\n\u001b[0;32m    816\u001b[0m                     \u001b[0mdtype\u001b[0m\u001b[1;33m=\u001b[0m\u001b[0mdtype\u001b[0m\u001b[1;33m,\u001b[0m \u001b[0morder\u001b[0m\u001b[1;33m=\u001b[0m\u001b[0morder\u001b[0m\u001b[1;33m,\u001b[0m \u001b[0mcopy\u001b[0m\u001b[1;33m=\u001b[0m\u001b[0mcopy\u001b[0m\u001b[1;33m,\u001b[0m\u001b[1;33m\u001b[0m\u001b[1;33m\u001b[0m\u001b[0m\n",
      "\u001b[1;32m~\\anaconda3\\lib\\site-packages\\sklearn\\utils\\validation.py\u001b[0m in \u001b[0;36minner_f\u001b[1;34m(*args, **kwargs)\u001b[0m\n\u001b[0;32m     61\u001b[0m             \u001b[0mextra_args\u001b[0m \u001b[1;33m=\u001b[0m \u001b[0mlen\u001b[0m\u001b[1;33m(\u001b[0m\u001b[0margs\u001b[0m\u001b[1;33m)\u001b[0m \u001b[1;33m-\u001b[0m \u001b[0mlen\u001b[0m\u001b[1;33m(\u001b[0m\u001b[0mall_args\u001b[0m\u001b[1;33m)\u001b[0m\u001b[1;33m\u001b[0m\u001b[1;33m\u001b[0m\u001b[0m\n\u001b[0;32m     62\u001b[0m             \u001b[1;32mif\u001b[0m \u001b[0mextra_args\u001b[0m \u001b[1;33m<=\u001b[0m \u001b[1;36m0\u001b[0m\u001b[1;33m:\u001b[0m\u001b[1;33m\u001b[0m\u001b[1;33m\u001b[0m\u001b[0m\n\u001b[1;32m---> 63\u001b[1;33m                 \u001b[1;32mreturn\u001b[0m \u001b[0mf\u001b[0m\u001b[1;33m(\u001b[0m\u001b[1;33m*\u001b[0m\u001b[0margs\u001b[0m\u001b[1;33m,\u001b[0m \u001b[1;33m**\u001b[0m\u001b[0mkwargs\u001b[0m\u001b[1;33m)\u001b[0m\u001b[1;33m\u001b[0m\u001b[1;33m\u001b[0m\u001b[0m\n\u001b[0m\u001b[0;32m     64\u001b[0m \u001b[1;33m\u001b[0m\u001b[0m\n\u001b[0;32m     65\u001b[0m             \u001b[1;31m# extra_args > 0\u001b[0m\u001b[1;33m\u001b[0m\u001b[1;33m\u001b[0m\u001b[1;33m\u001b[0m\u001b[0m\n",
      "\u001b[1;32m~\\anaconda3\\lib\\site-packages\\sklearn\\utils\\validation.py\u001b[0m in \u001b[0;36mcheck_array\u001b[1;34m(array, accept_sparse, accept_large_sparse, dtype, order, copy, force_all_finite, ensure_2d, allow_nd, ensure_min_samples, ensure_min_features, estimator)\u001b[0m\n\u001b[0;32m    538\u001b[0m \u001b[1;33m\u001b[0m\u001b[0m\n\u001b[0;32m    539\u001b[0m         \u001b[1;32mif\u001b[0m \u001b[0mall\u001b[0m\u001b[1;33m(\u001b[0m\u001b[0misinstance\u001b[0m\u001b[1;33m(\u001b[0m\u001b[0mdtype\u001b[0m\u001b[1;33m,\u001b[0m \u001b[0mnp\u001b[0m\u001b[1;33m.\u001b[0m\u001b[0mdtype\u001b[0m\u001b[1;33m)\u001b[0m \u001b[1;32mfor\u001b[0m \u001b[0mdtype\u001b[0m \u001b[1;32min\u001b[0m \u001b[0mdtypes_orig\u001b[0m\u001b[1;33m)\u001b[0m\u001b[1;33m:\u001b[0m\u001b[1;33m\u001b[0m\u001b[1;33m\u001b[0m\u001b[0m\n\u001b[1;32m--> 540\u001b[1;33m             \u001b[0mdtype_orig\u001b[0m \u001b[1;33m=\u001b[0m \u001b[0mnp\u001b[0m\u001b[1;33m.\u001b[0m\u001b[0mresult_type\u001b[0m\u001b[1;33m(\u001b[0m\u001b[1;33m*\u001b[0m\u001b[0mdtypes_orig\u001b[0m\u001b[1;33m)\u001b[0m\u001b[1;33m\u001b[0m\u001b[1;33m\u001b[0m\u001b[0m\n\u001b[0m\u001b[0;32m    541\u001b[0m \u001b[1;33m\u001b[0m\u001b[0m\n\u001b[0;32m    542\u001b[0m     \u001b[1;32mif\u001b[0m \u001b[0mdtype_numeric\u001b[0m\u001b[1;33m:\u001b[0m\u001b[1;33m\u001b[0m\u001b[1;33m\u001b[0m\u001b[0m\n",
      "\u001b[1;32m<__array_function__ internals>\u001b[0m in \u001b[0;36mresult_type\u001b[1;34m(*args, **kwargs)\u001b[0m\n",
      "\u001b[1;31mTypeError\u001b[0m: invalid type promotion"
     ]
    }
   ],
   "source": [
    "from sklearn.linear_model import LinearRegression\n",
    "model = LinearRegression()\n",
    "model.fit(X_train,y_train)"
   ]
  },
  {
   "cell_type": "code",
   "execution_count": null,
   "id": "70c2153a",
   "metadata": {},
   "outputs": [],
   "source": [
    "model.predict(y_test)"
   ]
  },
  {
   "cell_type": "code",
   "execution_count": null,
   "id": "72f077e1",
   "metadata": {},
   "outputs": [],
   "source": []
  }
 ],
 "metadata": {
  "kernelspec": {
   "display_name": "Python 3",
   "language": "python",
   "name": "python3"
  },
  "language_info": {
   "codemirror_mode": {
    "name": "ipython",
    "version": 3
   },
   "file_extension": ".py",
   "mimetype": "text/x-python",
   "name": "python",
   "nbconvert_exporter": "python",
   "pygments_lexer": "ipython3",
   "version": "3.8.8"
  }
 },
 "nbformat": 4,
 "nbformat_minor": 5
}
